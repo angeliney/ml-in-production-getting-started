{
 "cells": [
  {
   "cell_type": "markdown",
   "metadata": {},
   "source": [
    "## Run experiments"
   ]
  },
  {
   "cell_type": "code",
   "execution_count": 1,
   "metadata": {},
   "outputs": [
    {
     "name": "stderr",
     "output_type": "stream",
     "text": [
      "/home/angeline/miniconda3/envs/mlops-training/lib/python3.12/site-packages/tqdm/auto.py:21: TqdmWarning: IProgress not found. Please update jupyter and ipywidgets. See https://ipywidgets.readthedocs.io/en/stable/user_install.html\n",
      "  from .autonotebook import tqdm as notebook_tqdm\n"
     ]
    }
   ],
   "source": [
    "import lancedb"
   ]
  },
  {
   "cell_type": "code",
   "execution_count": 2,
   "metadata": {},
   "outputs": [],
   "source": [
    "uri = \"../../data/lancedb-data/audio-lancedb\"\n",
    "db = lancedb.connect(uri)\n"
   ]
  },
  {
   "cell_type": "code",
   "execution_count": 3,
   "metadata": {},
   "outputs": [],
   "source": [
    "import pandas as pd\n",
    "\n",
    "def test_method(test_fn):\n",
    "    queries_tbl = db.open_table(\"audio_example_queries\")\n",
    "    total_rows = queries_tbl.count_rows()\n",
    "    song_num_actual = []\n",
    "    song_num_retrieved = []\n",
    "\n",
    "    conditions = [\n",
    "        \"(offset == 0) and (pitch_shift == 0) and (time_stretch == 1.0)\",\n",
    "        \"(offset != 0) and (pitch_shift == 0) and (time_stretch == 1.0)\",\n",
    "        \"(offset == 0) and (pitch_shift != 0) and (time_stretch == 1.0)\",\n",
    "        \"(offset == 0) and (pitch_shift == 0) and (time_stretch != 1.0)\",\n",
    "        \"(offset == 0) and (pitch_shift != 0) and (time_stretch != 1.0)\",\n",
    "        \"(offset != 0) and (pitch_shift != 0) and (time_stretch != 1.0)\",\n",
    "    ]\n",
    "\n",
    "    for condition in conditions:\n",
    "        print(f\"Running test for condition: {condition}\")\n",
    "        filtered_tbl = queries_tbl.search().where(condition).select([\"song_num\", \"vector\"])\n",
    "\n",
    "        for _, row in filtered_tbl.to_pandas().iterrows():\n",
    "            song_num_actual.append(row[\"song_num\"])\n",
    "            retrieved_info_list = test_fn(row[\"vector\"]).to_pandas()\n",
    "\n",
    "            song_num_retrieved.append([retrieved_info[\"song_num\"] \n",
    "                                       for _, retrieved_info in retrieved_info_list.iterrows()])\n",
    "    return song_num_actual, song_num_retrieved\n",
    "\n",
    "\n",
    "def calculate_mrr(actual_songs, retrieved_songs):\n",
    "    \"\"\"\n",
    "    Calculate Mean Reciprocal Rank (MRR) for a list of song retrievals.\n",
    "\n",
    "    Parameters:\n",
    "    actual_songs (list of int): A list of the actual song numbers.\n",
    "    retrieved_songs (list of list of int): A list of lists, where each inner list contains retrieved song numbers.\n",
    "\n",
    "    Returns:\n",
    "    float: The Mean Reciprocal Rank (MRR) score.\n",
    "    \"\"\"\n",
    "    reciprocal_ranks = []\n",
    "\n",
    "    for actual, retrieved in zip(actual_songs, retrieved_songs):\n",
    "        try:\n",
    "            # Find the rank (1-indexed) of the actual song in the retrieved list\n",
    "            rank = retrieved.index(actual) + 1\n",
    "            reciprocal_ranks.append(1 / rank)\n",
    "        except ValueError:\n",
    "            # If the actual song is not in the retrieved list, reciprocal rank is 0\n",
    "            reciprocal_ranks.append(0.0)\n",
    "\n",
    "    # Calculate the mean of the reciprocal ranks\n",
    "    return sum(reciprocal_ranks) / len(reciprocal_ranks)"
   ]
  },
  {
   "cell_type": "code",
   "execution_count": 4,
   "metadata": {},
   "outputs": [],
   "source": [
    "db_tbl = db.open_table(\"audio_dataset\")\n",
    "\n",
    "def default_search(query_vector):\n",
    "    return db_tbl.search(query_vector).limit(3)"
   ]
  },
  {
   "cell_type": "code",
   "execution_count": 5,
   "metadata": {},
   "outputs": [
    {
     "name": "stdout",
     "output_type": "stream",
     "text": [
      "Running test for condition: (offset == 0) and (pitch_shift == 0) and (time_stretch == 1.0)\n",
      "Running test for condition: (offset != 0) and (pitch_shift == 0) and (time_stretch == 1.0)\n",
      "Running test for condition: (offset == 0) and (pitch_shift != 0) and (time_stretch == 1.0)\n",
      "Running test for condition: (offset == 0) and (pitch_shift == 0) and (time_stretch != 1.0)\n",
      "Running test for condition: (offset == 0) and (pitch_shift != 0) and (time_stretch != 1.0)\n",
      "Running test for condition: (offset != 0) and (pitch_shift != 0) and (time_stretch != 1.0)\n"
     ]
    }
   ],
   "source": [
    "actual, retrieved = test_method(default_search)"
   ]
  },
  {
   "cell_type": "code",
   "execution_count": 6,
   "metadata": {},
   "outputs": [
    {
     "data": {
      "text/plain": [
       "0.16666666666666666"
      ]
     },
     "execution_count": 6,
     "metadata": {},
     "output_type": "execute_result"
    }
   ],
   "source": [
    "calculate_mrr(actual, retrieved)"
   ]
  },
  {
   "cell_type": "markdown",
   "metadata": {},
   "source": [
    "## Track with wandb"
   ]
  },
  {
   "cell_type": "code",
   "execution_count": 7,
   "metadata": {},
   "outputs": [
    {
     "name": "stderr",
     "output_type": "stream",
     "text": [
      "Failed to detect the name of this notebook, you can set it manually with the WANDB_NOTEBOOK_NAME environment variable to enable code saving.\n",
      "\u001b[34m\u001b[1mwandb\u001b[0m: Currently logged in as: \u001b[33mangeliney\u001b[0m (\u001b[33mangeliney-georgian\u001b[0m). Use \u001b[1m`wandb login --relogin`\u001b[0m to force relogin\n"
     ]
    },
    {
     "data": {
      "text/html": [
       "Tracking run with wandb version 0.17.9"
      ],
      "text/plain": [
       "<IPython.core.display.HTML object>"
      ]
     },
     "metadata": {},
     "output_type": "display_data"
    },
    {
     "data": {
      "text/html": [
       "Run data is saved locally in <code>/home/angeline/ml-in-production-getting-started/module-3/experiments/wandb/run-20240909_224450-ml7e4v04</code>"
      ],
      "text/plain": [
       "<IPython.core.display.HTML object>"
      ]
     },
     "metadata": {},
     "output_type": "display_data"
    },
    {
     "data": {
      "text/html": [
       "Syncing run <strong><a href='https://wandb.ai/angeliney-georgian/children-song-dataset-retrieval/runs/ml7e4v04' target=\"_blank\">stellar-plant-8</a></strong> to <a href='https://wandb.ai/angeliney-georgian/children-song-dataset-retrieval' target=\"_blank\">Weights & Biases</a> (<a href='https://wandb.me/run' target=\"_blank\">docs</a>)<br/>"
      ],
      "text/plain": [
       "<IPython.core.display.HTML object>"
      ]
     },
     "metadata": {},
     "output_type": "display_data"
    },
    {
     "data": {
      "text/html": [
       " View project at <a href='https://wandb.ai/angeliney-georgian/children-song-dataset-retrieval' target=\"_blank\">https://wandb.ai/angeliney-georgian/children-song-dataset-retrieval</a>"
      ],
      "text/plain": [
       "<IPython.core.display.HTML object>"
      ]
     },
     "metadata": {},
     "output_type": "display_data"
    },
    {
     "data": {
      "text/html": [
       " View run at <a href='https://wandb.ai/angeliney-georgian/children-song-dataset-retrieval/runs/ml7e4v04' target=\"_blank\">https://wandb.ai/angeliney-georgian/children-song-dataset-retrieval/runs/ml7e4v04</a>"
      ],
      "text/plain": [
       "<IPython.core.display.HTML object>"
      ]
     },
     "metadata": {},
     "output_type": "display_data"
    },
    {
     "data": {
      "text/html": [
       "<button onClick=\"this.nextSibling.style.display='block';this.style.display='none';\">Display W&B run</button><iframe src='https://wandb.ai/angeliney-georgian/children-song-dataset-retrieval/runs/ml7e4v04?jupyter=true' style='border:none;width:100%;height:420px;display:none;'></iframe>"
      ],
      "text/plain": [
       "<wandb.sdk.wandb_run.Run at 0x7f59f8422840>"
      ]
     },
     "execution_count": 7,
     "metadata": {},
     "output_type": "execute_result"
    }
   ],
   "source": [
    "import wandb\n",
    "\n",
    "wandb.init(\n",
    "    # set the wandb project where this run will be logged\n",
    "    project=\"children-song-dataset-retrieval\",\n",
    "\n",
    "    # track hyperparameters and run metadata\n",
    "    config={\n",
    "    \"embedding\": \"none\",\n",
    "    \"retrieval\": \"l2\",\n",
    "    }\n",
    ")"
   ]
  },
  {
   "cell_type": "code",
   "execution_count": 8,
   "metadata": {},
   "outputs": [
    {
     "data": {
      "text/html": [
       "<style>\n",
       "    table.wandb td:nth-child(1) { padding: 0 10px; text-align: left ; width: auto;} td:nth-child(2) {text-align: left ; width: 100%}\n",
       "    .wandb-row { display: flex; flex-direction: row; flex-wrap: wrap; justify-content: flex-start; width: 100% }\n",
       "    .wandb-col { display: flex; flex-direction: column; flex-basis: 100%; flex: 1; padding: 10px; }\n",
       "    </style>\n",
       "<div class=\"wandb-row\"><div class=\"wandb-col\"><h3>Run history:</h3><br/><table class=\"wandb\"><tr><td>mrr</td><td>▁</td></tr></table><br/></div><div class=\"wandb-col\"><h3>Run summary:</h3><br/><table class=\"wandb\"><tr><td>mrr</td><td>0.16667</td></tr></table><br/></div></div>"
      ],
      "text/plain": [
       "<IPython.core.display.HTML object>"
      ]
     },
     "metadata": {},
     "output_type": "display_data"
    },
    {
     "data": {
      "text/html": [
       " View run <strong style=\"color:#cdcd00\">stellar-plant-8</strong> at: <a href='https://wandb.ai/angeliney-georgian/children-song-dataset-retrieval/runs/ml7e4v04' target=\"_blank\">https://wandb.ai/angeliney-georgian/children-song-dataset-retrieval/runs/ml7e4v04</a><br/> View project at: <a href='https://wandb.ai/angeliney-georgian/children-song-dataset-retrieval' target=\"_blank\">https://wandb.ai/angeliney-georgian/children-song-dataset-retrieval</a><br/>Synced 5 W&B file(s), 0 media file(s), 0 artifact file(s) and 0 other file(s)"
      ],
      "text/plain": [
       "<IPython.core.display.HTML object>"
      ]
     },
     "metadata": {},
     "output_type": "display_data"
    },
    {
     "data": {
      "text/html": [
       "Find logs at: <code>./wandb/run-20240909_224450-ml7e4v04/logs</code>"
      ],
      "text/plain": [
       "<IPython.core.display.HTML object>"
      ]
     },
     "metadata": {},
     "output_type": "display_data"
    },
    {
     "data": {
      "text/html": [
       "The new W&B backend becomes opt-out in version 0.18.0; try it out with `wandb.require(\"core\")`! See https://wandb.me/wandb-core for more information."
      ],
      "text/plain": [
       "<IPython.core.display.HTML object>"
      ]
     },
     "metadata": {},
     "output_type": "display_data"
    }
   ],
   "source": [
    "wandb.log({\"mrr\": calculate_mrr(actual, retrieved)})\n",
    "wandb.finish()"
   ]
  },
  {
   "cell_type": "markdown",
   "metadata": {},
   "source": [
    "## Try with feature extraction"
   ]
  },
  {
   "cell_type": "code",
   "execution_count": 9,
   "metadata": {},
   "outputs": [],
   "source": [
    "audio = db_tbl.search().limit(1).select([\"song_num\", \"vector\"]).to_pandas().iloc[0][\"vector\"]"
   ]
  },
  {
   "cell_type": "code",
   "execution_count": 12,
   "metadata": {},
   "outputs": [
    {
     "name": "stdout",
     "output_type": "stream",
     "text": [
      "(131886,)\n"
     ]
    }
   ],
   "source": [
    "import librosa\n",
    "import numpy as np\n",
    "\n",
    "def extract_features(audio, sr=44100, aggregate=\"summary_stat\"):\n",
    "    # Extract MFCC features\n",
    "    mfccs = librosa.feature.mfcc(y=audio, sr=sr, n_mfcc=13)\n",
    "\n",
    "    # Extract Chroma features\n",
    "    chroma = librosa.feature.chroma_stft(y=audio, sr=sr)\n",
    "    \n",
    "    # Extract Mel-scaled spectrogram features\n",
    "    mel_spectrogram = librosa.feature.melspectrogram(y=audio, sr=sr, n_mels=128)\n",
    "\n",
    "    if aggregate == \"summary_stat\":\n",
    "        # Aggregate the MFCCs across time\n",
    "        mfccs_mean = np.mean(mfccs, axis=1)\n",
    "        mfccs_std = np.std(mfccs, axis=1)\n",
    "        mfcc_embedding = np.concatenate([mfccs_mean, mfccs_std])\n",
    "\n",
    "        chroma_mean = np.mean(chroma, axis=1)\n",
    "        chroma_std = np.std(chroma, axis=1)\n",
    "        chroma_embedding = np.concatenate([chroma_mean, chroma_std])\n",
    "\n",
    "        mel_spectrogram_mean = np.mean(mel_spectrogram, axis=1)\n",
    "        mel_spectrogram_std = np.std(mel_spectrogram, axis=1)\n",
    "        mel_spectrogram_embedding = np.concatenate([mel_spectrogram_mean, mel_spectrogram_std])\n",
    "    \n",
    "    else:\n",
    "        # Flatten the MFCCs into a 1D array\n",
    "        mfcc_embedding = mfccs.flatten()\n",
    "        chroma_embedding = chroma.flatten()\n",
    "        mel_spectrogram_embedding = mel_spectrogram.flatten()\n",
    "   \n",
    "    return np.concatenate([mfcc_embedding, chroma_embedding, mel_spectrogram_embedding])\n",
    "\n",
    "# Example usage\n",
    "feat = extract_features(audio, aggregate=\"full\")\n",
    "print(feat.shape)"
   ]
  },
  {
   "cell_type": "code",
   "execution_count": null,
   "metadata": {},
   "outputs": [],
   "source": [
    "## Todo re-embed the data with the new features"
   ]
  }
 ],
 "metadata": {
  "kernelspec": {
   "display_name": "mlops-training",
   "language": "python",
   "name": "python3"
  },
  "language_info": {
   "codemirror_mode": {
    "name": "ipython",
    "version": 3
   },
   "file_extension": ".py",
   "mimetype": "text/x-python",
   "name": "python",
   "nbconvert_exporter": "python",
   "pygments_lexer": "ipython3",
   "version": "3.12.4"
  }
 },
 "nbformat": 4,
 "nbformat_minor": 2
}
