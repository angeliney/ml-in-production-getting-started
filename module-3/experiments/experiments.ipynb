{
 "cells": [
  {
   "cell_type": "markdown",
   "metadata": {},
   "source": [
    "## Run experiments"
   ]
  },
  {
   "cell_type": "code",
   "execution_count": 1,
   "metadata": {},
   "outputs": [
    {
     "name": "stderr",
     "output_type": "stream",
     "text": [
      "/home/angeline/miniconda3/envs/mlops-training/lib/python3.12/site-packages/tqdm/auto.py:21: TqdmWarning: IProgress not found. Please update jupyter and ipywidgets. See https://ipywidgets.readthedocs.io/en/stable/user_install.html\n",
      "  from .autonotebook import tqdm as notebook_tqdm\n",
      "Failed to detect the name of this notebook, you can set it manually with the WANDB_NOTEBOOK_NAME environment variable to enable code saving.\n",
      "\u001b[34m\u001b[1mwandb\u001b[0m: Currently logged in as: \u001b[33mangeliney\u001b[0m (\u001b[33mangeliney-georgian\u001b[0m). Use \u001b[1m`wandb login --relogin`\u001b[0m to force relogin\n"
     ]
    },
    {
     "data": {
      "text/plain": [
       "True"
      ]
     },
     "execution_count": 1,
     "metadata": {},
     "output_type": "execute_result"
    }
   ],
   "source": [
    "import lancedb\n",
    "import wandb\n",
    "wandb.login()"
   ]
  },
  {
   "cell_type": "code",
   "execution_count": 2,
   "metadata": {},
   "outputs": [],
   "source": [
    "uri = \"../../data/lancedb-data/audio-lancedb\"\n",
    "db = lancedb.connect(uri)\n",
    "db_tbl = db.open_table(\"audio_dataset\")\n",
    "\n",
    "audio_df = db_tbl.to_pandas()\n",
    "\n"
   ]
  },
  {
   "cell_type": "code",
   "execution_count": 3,
   "metadata": {},
   "outputs": [],
   "source": [
    "import pandas as pd\n",
    "import numpy as np \n",
    "\n",
    "def test_method(test_fn, embed_fn=None):\n",
    "    queries_tbl = db.open_table(\"audio_example_queries\")\n",
    "    total_rows = queries_tbl.count_rows()\n",
    "    song_num_actual = []\n",
    "    song_num_retrieved = []\n",
    "\n",
    "    conditions = [\n",
    "        \"(offset == 0) and (pitch_shift == 0) and (time_stretch == 1.0)\",\n",
    "        \"(offset != 0) and (pitch_shift == 0) and (time_stretch == 1.0)\",\n",
    "        \"(offset == 0) and (pitch_shift != 0) and (time_stretch == 1.0)\",\n",
    "        \"(offset == 0) and (pitch_shift == 0) and (time_stretch != 1.0)\",\n",
    "        \"(offset == 0) and (pitch_shift != 0) and (time_stretch != 1.0)\",\n",
    "        \"(offset != 0) and (pitch_shift != 0) and (time_stretch != 1.0)\",\n",
    "    ]\n",
    "\n",
    "    for condition in conditions:\n",
    "        print(f\"Running test for condition: {condition}\")\n",
    "        filtered_tbl = queries_tbl.search().where(condition).select([\"song_num\", \"vector\"])\n",
    "\n",
    "        for _, row in filtered_tbl.to_pandas().iterrows():\n",
    "            if embed_fn:\n",
    "                row[\"vector\"] = embed_fn(row[\"vector\"])\n",
    "            song_num_actual.append(row[\"song_num\"])\n",
    "            retrieved_info_list = test_fn(row[\"vector\"]).to_pandas()\n",
    "\n",
    "            song_num_retrieved.append([retrieved_info[\"song_num\"] \n",
    "                                       for _, retrieved_info in retrieved_info_list.iterrows()])\n",
    "    return song_num_actual, song_num_retrieved\n",
    "\n",
    "\n",
    "def calculate_mrr(actual_songs, retrieved_songs):\n",
    "    \"\"\"\n",
    "    Calculate Mean Reciprocal Rank (MRR) for a list of song retrievals.\n",
    "\n",
    "    Parameters:\n",
    "    actual_songs (list of int): A list of the actual song numbers.\n",
    "    retrieved_songs (list of list of int): A list of lists, where each inner list contains retrieved song numbers.\n",
    "\n",
    "    Returns:\n",
    "    float: The Mean Reciprocal Rank (MRR) score.\n",
    "    \"\"\"\n",
    "    reciprocal_ranks = []\n",
    "\n",
    "    for actual, retrieved in zip(actual_songs, retrieved_songs):\n",
    "        try:\n",
    "            # Find the rank (1-indexed) of the actual song in the retrieved list\n",
    "            rank = retrieved.index(actual) + 1\n",
    "            reciprocal_ranks.append(1 / rank)\n",
    "        except ValueError:\n",
    "            # If the actual song is not in the retrieved list, reciprocal rank is 0\n",
    "            reciprocal_ranks.append(0.0)\n",
    "\n",
    "    # Calculate the mean of the reciprocal ranks\n",
    "    return sum(reciprocal_ranks) / len(reciprocal_ranks)\n",
    "\n",
    "\n",
    "def retrieval_recall(actual_songs, retrieved_songs):\n",
    "    in_retrieved = []\n",
    "    for actual, retrieved in zip(actual_songs, retrieved_songs):\n",
    "        in_retrieved.append(actual in retrieved)\n",
    "    \n",
    "    return np.sum(in_retrieved)/len(in_retrieved)\n",
    "\n",
    "\n",
    "def test_and_log(search_fn, embed_fn, search_metric, embedding):\n",
    "    actual, retrieved = test_method(search_fn, embed_fn)\n",
    "    mrr = calculate_mrr(actual, retrieved)\n",
    "    rr = retrieval_recall(actual, retrieved) \n",
    "    print(\"mrr\", mrr, \"rr\", rr)\n",
    "\n",
    "    wandb.init(\n",
    "        # set the wandb project where this run will be logged\n",
    "        project=\"children-song-dataset-retrieval\",\n",
    "\n",
    "        # track hyperparameters and run metadata\n",
    "        config={\n",
    "        \"embedding\": embedding,\n",
    "        \"retrieval\": search_metric,\n",
    "        }\n",
    "    )\n",
    "\n",
    "    wandb.log({\"mrr\": mrr})\n",
    "    wandb.log({\"retrieval_recall\": rr})\n",
    "    wandb.finish()\n"
   ]
  },
  {
   "cell_type": "code",
   "execution_count": 4,
   "metadata": {},
   "outputs": [],
   "source": [
    "\n",
    "def search(query_vector, db_tbl, metric=\"l2\"):\n",
    "    return db_tbl.search(query_vector).metric(metric).limit(3)"
   ]
  },
  {
   "cell_type": "code",
   "execution_count": 5,
   "metadata": {},
   "outputs": [],
   "source": [
    "import librosa\n",
    "import numpy as np\n",
    "\n",
    "def extract_features(audio, sr=44100, aggregate=\"summary_stat\"):\n",
    "    # Extract MFCC features\n",
    "    mfccs = librosa.feature.mfcc(y=audio, sr=sr, n_mfcc=13)\n",
    "\n",
    "    # Extract Chroma features\n",
    "    chroma = librosa.feature.chroma_stft(y=audio, sr=sr)\n",
    "    \n",
    "    # Extract Mel-scaled spectrogram features\n",
    "    mel_spectrogram = librosa.feature.melspectrogram(y=audio, sr=sr, n_mels=128)\n",
    "\n",
    "    if aggregate == \"summary_stat\":\n",
    "        # Aggregate the MFCCs across time\n",
    "        mfccs_mean = np.mean(mfccs, axis=1)\n",
    "        mfccs_std = np.std(mfccs, axis=1)\n",
    "        mfcc_embedding = np.concatenate([mfccs_mean, mfccs_std])\n",
    "\n",
    "        chroma_mean = np.mean(chroma, axis=1)\n",
    "        chroma_std = np.std(chroma, axis=1)\n",
    "        chroma_embedding = np.concatenate([chroma_mean, chroma_std])\n",
    "\n",
    "        mel_spectrogram_mean = np.mean(mel_spectrogram, axis=1)\n",
    "        mel_spectrogram_std = np.std(mel_spectrogram, axis=1)\n",
    "        mel_spectrogram_embedding = np.concatenate([mel_spectrogram_mean, mel_spectrogram_std])\n",
    "    \n",
    "    else:\n",
    "        # Flatten the MFCCs into a 1D array\n",
    "        mfcc_embedding = mfccs.flatten()\n",
    "        chroma_embedding = chroma.flatten()\n",
    "        mel_spectrogram_embedding = mel_spectrogram.flatten()\n",
    "   \n",
    "    return np.concatenate([mfcc_embedding, chroma_embedding, mel_spectrogram_embedding])\n",
    "\n"
   ]
  },
  {
   "cell_type": "code",
   "execution_count": 6,
   "metadata": {},
   "outputs": [],
   "source": [
    "def embed_lookup_data(embed_fn, df, db_name):\n",
    "    ## Re-embed the data with the new features\n",
    "    db_setup = False\n",
    "\n",
    "    batch_size = len(df)//5\n",
    "    for i in range(0, len(df), batch_size):\n",
    "        print(i)\n",
    "        sound_arrays = []\n",
    "        for _, row in df.iloc[i:i+batch_size].iterrows():\n",
    "            sound_arrays.append(\n",
    "                {\n",
    "                    \"vector\": embed_fn(row[\"vector\"]),\n",
    "                    \"sample_rate\": row[\"sample_rate\"],\n",
    "                    \"offset\": row[\"offset\"],\n",
    "                    \"pitch_shift\": row[\"pitch_shift\"],\n",
    "                    \"time_stretch\": row[\"time_stretch\"],\n",
    "                    \"song_num\": row[\"song_num\"],\n",
    "                    \"song_version\": row[\"song_version\"],\n",
    "                    \"chunk_num\": row[\"chunk_num\"],\n",
    "                    \"filename\": row[\"filename\"],\n",
    "                }\n",
    "            )\n",
    "    \n",
    "\n",
    "        if db_setup:\n",
    "            feat_tbl.add(sound_arrays)\n",
    "        else:\n",
    "            if db_name in db.table_names():\n",
    "                db.drop_table(db_name)\n",
    "            feat_tbl = db.create_table(db_name, data=sound_arrays)\n",
    "            db_setup = True\n",
    "\n",
    "    "
   ]
  },
  {
   "cell_type": "code",
   "execution_count": 10,
   "metadata": {},
   "outputs": [
    {
     "name": "stdout",
     "output_type": "stream",
     "text": [
      "Running test for condition: (offset == 0) and (pitch_shift == 0) and (time_stretch == 1.0)\n",
      "Running test for condition: (offset != 0) and (pitch_shift == 0) and (time_stretch == 1.0)\n",
      "Running test for condition: (offset == 0) and (pitch_shift != 0) and (time_stretch == 1.0)\n",
      "Running test for condition: (offset == 0) and (pitch_shift == 0) and (time_stretch != 1.0)\n",
      "Running test for condition: (offset == 0) and (pitch_shift != 0) and (time_stretch != 1.0)\n",
      "Running test for condition: (offset != 0) and (pitch_shift != 0) and (time_stretch != 1.0)\n",
      "mrr 0.16666666666666666 rr 0.16666666666666666\n"
     ]
    },
    {
     "data": {
      "text/html": [
       "Tracking run with wandb version 0.17.9"
      ],
      "text/plain": [
       "<IPython.core.display.HTML object>"
      ]
     },
     "metadata": {},
     "output_type": "display_data"
    },
    {
     "data": {
      "text/html": [
       "Run data is saved locally in <code>/home/angeline/ml-in-production-getting-started/module-3/experiments/wandb/run-20240913_171305-mm2d2wm3</code>"
      ],
      "text/plain": [
       "<IPython.core.display.HTML object>"
      ]
     },
     "metadata": {},
     "output_type": "display_data"
    },
    {
     "data": {
      "text/html": [
       "Syncing run <strong><a href='https://wandb.ai/angeliney-georgian/children-song-dataset-retrieval/runs/mm2d2wm3' target=\"_blank\">likely-deluge-31</a></strong> to <a href='https://wandb.ai/angeliney-georgian/children-song-dataset-retrieval' target=\"_blank\">Weights & Biases</a> (<a href='https://wandb.me/run' target=\"_blank\">docs</a>)<br/>"
      ],
      "text/plain": [
       "<IPython.core.display.HTML object>"
      ]
     },
     "metadata": {},
     "output_type": "display_data"
    },
    {
     "data": {
      "text/html": [
       " View project at <a href='https://wandb.ai/angeliney-georgian/children-song-dataset-retrieval' target=\"_blank\">https://wandb.ai/angeliney-georgian/children-song-dataset-retrieval</a>"
      ],
      "text/plain": [
       "<IPython.core.display.HTML object>"
      ]
     },
     "metadata": {},
     "output_type": "display_data"
    },
    {
     "data": {
      "text/html": [
       " View run at <a href='https://wandb.ai/angeliney-georgian/children-song-dataset-retrieval/runs/mm2d2wm3' target=\"_blank\">https://wandb.ai/angeliney-georgian/children-song-dataset-retrieval/runs/mm2d2wm3</a>"
      ],
      "text/plain": [
       "<IPython.core.display.HTML object>"
      ]
     },
     "metadata": {},
     "output_type": "display_data"
    },
    {
     "data": {
      "text/html": [
       "<style>\n",
       "    table.wandb td:nth-child(1) { padding: 0 10px; text-align: left ; width: auto;} td:nth-child(2) {text-align: left ; width: 100%}\n",
       "    .wandb-row { display: flex; flex-direction: row; flex-wrap: wrap; justify-content: flex-start; width: 100% }\n",
       "    .wandb-col { display: flex; flex-direction: column; flex-basis: 100%; flex: 1; padding: 10px; }\n",
       "    </style>\n",
       "<div class=\"wandb-row\"><div class=\"wandb-col\"><h3>Run history:</h3><br/><table class=\"wandb\"><tr><td>mrr</td><td>▁</td></tr><tr><td>retrieval_recall</td><td>▁</td></tr></table><br/></div><div class=\"wandb-col\"><h3>Run summary:</h3><br/><table class=\"wandb\"><tr><td>mrr</td><td>0.16667</td></tr><tr><td>retrieval_recall</td><td>0.16667</td></tr></table><br/></div></div>"
      ],
      "text/plain": [
       "<IPython.core.display.HTML object>"
      ]
     },
     "metadata": {},
     "output_type": "display_data"
    },
    {
     "data": {
      "text/html": [
       " View run <strong style=\"color:#cdcd00\">likely-deluge-31</strong> at: <a href='https://wandb.ai/angeliney-georgian/children-song-dataset-retrieval/runs/mm2d2wm3' target=\"_blank\">https://wandb.ai/angeliney-georgian/children-song-dataset-retrieval/runs/mm2d2wm3</a><br/> View project at: <a href='https://wandb.ai/angeliney-georgian/children-song-dataset-retrieval' target=\"_blank\">https://wandb.ai/angeliney-georgian/children-song-dataset-retrieval</a><br/>Synced 5 W&B file(s), 0 media file(s), 0 artifact file(s) and 0 other file(s)"
      ],
      "text/plain": [
       "<IPython.core.display.HTML object>"
      ]
     },
     "metadata": {},
     "output_type": "display_data"
    },
    {
     "data": {
      "text/html": [
       "Find logs at: <code>./wandb/run-20240913_171305-mm2d2wm3/logs</code>"
      ],
      "text/plain": [
       "<IPython.core.display.HTML object>"
      ]
     },
     "metadata": {},
     "output_type": "display_data"
    },
    {
     "data": {
      "text/html": [
       "wandb version 0.18.0 is available!  To upgrade, please run:\n",
       " $ pip install wandb --upgrade"
      ],
      "text/plain": [
       "<IPython.core.display.HTML object>"
      ]
     },
     "metadata": {},
     "output_type": "display_data"
    },
    {
     "data": {
      "text/html": [
       "The new W&B backend becomes opt-out in version 0.18.0; try it out with `wandb.require(\"core\")`! See https://wandb.me/wandb-core for more information."
      ],
      "text/plain": [
       "<IPython.core.display.HTML object>"
      ]
     },
     "metadata": {},
     "output_type": "display_data"
    },
    {
     "name": "stdout",
     "output_type": "stream",
     "text": [
      "Running test for condition: (offset == 0) and (pitch_shift == 0) and (time_stretch == 1.0)\n",
      "Running test for condition: (offset != 0) and (pitch_shift == 0) and (time_stretch == 1.0)\n",
      "Running test for condition: (offset == 0) and (pitch_shift != 0) and (time_stretch == 1.0)\n",
      "Running test for condition: (offset == 0) and (pitch_shift == 0) and (time_stretch != 1.0)\n",
      "Running test for condition: (offset == 0) and (pitch_shift != 0) and (time_stretch != 1.0)\n",
      "Running test for condition: (offset != 0) and (pitch_shift != 0) and (time_stretch != 1.0)\n",
      "mrr 0.25833333333333336 rr 0.26666666666666666\n"
     ]
    },
    {
     "data": {
      "text/html": [
       "Tracking run with wandb version 0.17.9"
      ],
      "text/plain": [
       "<IPython.core.display.HTML object>"
      ]
     },
     "metadata": {},
     "output_type": "display_data"
    },
    {
     "data": {
      "text/html": [
       "Run data is saved locally in <code>/home/angeline/ml-in-production-getting-started/module-3/experiments/wandb/run-20240913_171340-m8emehnd</code>"
      ],
      "text/plain": [
       "<IPython.core.display.HTML object>"
      ]
     },
     "metadata": {},
     "output_type": "display_data"
    },
    {
     "data": {
      "text/html": [
       "Syncing run <strong><a href='https://wandb.ai/angeliney-georgian/children-song-dataset-retrieval/runs/m8emehnd' target=\"_blank\">comic-fog-32</a></strong> to <a href='https://wandb.ai/angeliney-georgian/children-song-dataset-retrieval' target=\"_blank\">Weights & Biases</a> (<a href='https://wandb.me/run' target=\"_blank\">docs</a>)<br/>"
      ],
      "text/plain": [
       "<IPython.core.display.HTML object>"
      ]
     },
     "metadata": {},
     "output_type": "display_data"
    },
    {
     "data": {
      "text/html": [
       " View project at <a href='https://wandb.ai/angeliney-georgian/children-song-dataset-retrieval' target=\"_blank\">https://wandb.ai/angeliney-georgian/children-song-dataset-retrieval</a>"
      ],
      "text/plain": [
       "<IPython.core.display.HTML object>"
      ]
     },
     "metadata": {},
     "output_type": "display_data"
    },
    {
     "data": {
      "text/html": [
       " View run at <a href='https://wandb.ai/angeliney-georgian/children-song-dataset-retrieval/runs/m8emehnd' target=\"_blank\">https://wandb.ai/angeliney-georgian/children-song-dataset-retrieval/runs/m8emehnd</a>"
      ],
      "text/plain": [
       "<IPython.core.display.HTML object>"
      ]
     },
     "metadata": {},
     "output_type": "display_data"
    },
    {
     "data": {
      "text/html": [
       "<style>\n",
       "    table.wandb td:nth-child(1) { padding: 0 10px; text-align: left ; width: auto;} td:nth-child(2) {text-align: left ; width: 100%}\n",
       "    .wandb-row { display: flex; flex-direction: row; flex-wrap: wrap; justify-content: flex-start; width: 100% }\n",
       "    .wandb-col { display: flex; flex-direction: column; flex-basis: 100%; flex: 1; padding: 10px; }\n",
       "    </style>\n",
       "<div class=\"wandb-row\"><div class=\"wandb-col\"><h3>Run history:</h3><br/><table class=\"wandb\"><tr><td>mrr</td><td>▁</td></tr><tr><td>retrieval_recall</td><td>▁</td></tr></table><br/></div><div class=\"wandb-col\"><h3>Run summary:</h3><br/><table class=\"wandb\"><tr><td>mrr</td><td>0.25833</td></tr><tr><td>retrieval_recall</td><td>0.26667</td></tr></table><br/></div></div>"
      ],
      "text/plain": [
       "<IPython.core.display.HTML object>"
      ]
     },
     "metadata": {},
     "output_type": "display_data"
    },
    {
     "data": {
      "text/html": [
       " View run <strong style=\"color:#cdcd00\">comic-fog-32</strong> at: <a href='https://wandb.ai/angeliney-georgian/children-song-dataset-retrieval/runs/m8emehnd' target=\"_blank\">https://wandb.ai/angeliney-georgian/children-song-dataset-retrieval/runs/m8emehnd</a><br/> View project at: <a href='https://wandb.ai/angeliney-georgian/children-song-dataset-retrieval' target=\"_blank\">https://wandb.ai/angeliney-georgian/children-song-dataset-retrieval</a><br/>Synced 5 W&B file(s), 0 media file(s), 0 artifact file(s) and 0 other file(s)"
      ],
      "text/plain": [
       "<IPython.core.display.HTML object>"
      ]
     },
     "metadata": {},
     "output_type": "display_data"
    },
    {
     "data": {
      "text/html": [
       "Find logs at: <code>./wandb/run-20240913_171340-m8emehnd/logs</code>"
      ],
      "text/plain": [
       "<IPython.core.display.HTML object>"
      ]
     },
     "metadata": {},
     "output_type": "display_data"
    },
    {
     "data": {
      "text/html": [
       "wandb version 0.18.0 is available!  To upgrade, please run:\n",
       " $ pip install wandb --upgrade"
      ],
      "text/plain": [
       "<IPython.core.display.HTML object>"
      ]
     },
     "metadata": {},
     "output_type": "display_data"
    },
    {
     "data": {
      "text/html": [
       "The new W&B backend becomes opt-out in version 0.18.0; try it out with `wandb.require(\"core\")`! See https://wandb.me/wandb-core for more information."
      ],
      "text/plain": [
       "<IPython.core.display.HTML object>"
      ]
     },
     "metadata": {},
     "output_type": "display_data"
    },
    {
     "name": "stdout",
     "output_type": "stream",
     "text": [
      "Running test for condition: (offset == 0) and (pitch_shift == 0) and (time_stretch == 1.0)\n",
      "Running test for condition: (offset != 0) and (pitch_shift == 0) and (time_stretch == 1.0)\n",
      "Running test for condition: (offset == 0) and (pitch_shift != 0) and (time_stretch == 1.0)\n",
      "Running test for condition: (offset == 0) and (pitch_shift == 0) and (time_stretch != 1.0)\n",
      "Running test for condition: (offset == 0) and (pitch_shift != 0) and (time_stretch != 1.0)\n",
      "Running test for condition: (offset != 0) and (pitch_shift != 0) and (time_stretch != 1.0)\n",
      "mrr 0.23055555555555557 rr 0.26666666666666666\n"
     ]
    },
    {
     "data": {
      "text/html": [
       "Tracking run with wandb version 0.17.9"
      ],
      "text/plain": [
       "<IPython.core.display.HTML object>"
      ]
     },
     "metadata": {},
     "output_type": "display_data"
    },
    {
     "data": {
      "text/html": [
       "Run data is saved locally in <code>/home/angeline/ml-in-production-getting-started/module-3/experiments/wandb/run-20240913_171412-s7mll8e6</code>"
      ],
      "text/plain": [
       "<IPython.core.display.HTML object>"
      ]
     },
     "metadata": {},
     "output_type": "display_data"
    },
    {
     "data": {
      "text/html": [
       "Syncing run <strong><a href='https://wandb.ai/angeliney-georgian/children-song-dataset-retrieval/runs/s7mll8e6' target=\"_blank\">legendary-gorge-33</a></strong> to <a href='https://wandb.ai/angeliney-georgian/children-song-dataset-retrieval' target=\"_blank\">Weights & Biases</a> (<a href='https://wandb.me/run' target=\"_blank\">docs</a>)<br/>"
      ],
      "text/plain": [
       "<IPython.core.display.HTML object>"
      ]
     },
     "metadata": {},
     "output_type": "display_data"
    },
    {
     "data": {
      "text/html": [
       " View project at <a href='https://wandb.ai/angeliney-georgian/children-song-dataset-retrieval' target=\"_blank\">https://wandb.ai/angeliney-georgian/children-song-dataset-retrieval</a>"
      ],
      "text/plain": [
       "<IPython.core.display.HTML object>"
      ]
     },
     "metadata": {},
     "output_type": "display_data"
    },
    {
     "data": {
      "text/html": [
       " View run at <a href='https://wandb.ai/angeliney-georgian/children-song-dataset-retrieval/runs/s7mll8e6' target=\"_blank\">https://wandb.ai/angeliney-georgian/children-song-dataset-retrieval/runs/s7mll8e6</a>"
      ],
      "text/plain": [
       "<IPython.core.display.HTML object>"
      ]
     },
     "metadata": {},
     "output_type": "display_data"
    },
    {
     "data": {
      "text/html": [
       "<style>\n",
       "    table.wandb td:nth-child(1) { padding: 0 10px; text-align: left ; width: auto;} td:nth-child(2) {text-align: left ; width: 100%}\n",
       "    .wandb-row { display: flex; flex-direction: row; flex-wrap: wrap; justify-content: flex-start; width: 100% }\n",
       "    .wandb-col { display: flex; flex-direction: column; flex-basis: 100%; flex: 1; padding: 10px; }\n",
       "    </style>\n",
       "<div class=\"wandb-row\"><div class=\"wandb-col\"><h3>Run history:</h3><br/><table class=\"wandb\"><tr><td>mrr</td><td>▁</td></tr><tr><td>retrieval_recall</td><td>▁</td></tr></table><br/></div><div class=\"wandb-col\"><h3>Run summary:</h3><br/><table class=\"wandb\"><tr><td>mrr</td><td>0.23056</td></tr><tr><td>retrieval_recall</td><td>0.26667</td></tr></table><br/></div></div>"
      ],
      "text/plain": [
       "<IPython.core.display.HTML object>"
      ]
     },
     "metadata": {},
     "output_type": "display_data"
    },
    {
     "data": {
      "text/html": [
       " View run <strong style=\"color:#cdcd00\">legendary-gorge-33</strong> at: <a href='https://wandb.ai/angeliney-georgian/children-song-dataset-retrieval/runs/s7mll8e6' target=\"_blank\">https://wandb.ai/angeliney-georgian/children-song-dataset-retrieval/runs/s7mll8e6</a><br/> View project at: <a href='https://wandb.ai/angeliney-georgian/children-song-dataset-retrieval' target=\"_blank\">https://wandb.ai/angeliney-georgian/children-song-dataset-retrieval</a><br/>Synced 5 W&B file(s), 0 media file(s), 0 artifact file(s) and 0 other file(s)"
      ],
      "text/plain": [
       "<IPython.core.display.HTML object>"
      ]
     },
     "metadata": {},
     "output_type": "display_data"
    },
    {
     "data": {
      "text/html": [
       "Find logs at: <code>./wandb/run-20240913_171412-s7mll8e6/logs</code>"
      ],
      "text/plain": [
       "<IPython.core.display.HTML object>"
      ]
     },
     "metadata": {},
     "output_type": "display_data"
    },
    {
     "data": {
      "text/html": [
       "wandb version 0.18.0 is available!  To upgrade, please run:\n",
       " $ pip install wandb --upgrade"
      ],
      "text/plain": [
       "<IPython.core.display.HTML object>"
      ]
     },
     "metadata": {},
     "output_type": "display_data"
    },
    {
     "data": {
      "text/html": [
       "The new W&B backend becomes opt-out in version 0.18.0; try it out with `wandb.require(\"core\")`! See https://wandb.me/wandb-core for more information."
      ],
      "text/plain": [
       "<IPython.core.display.HTML object>"
      ]
     },
     "metadata": {},
     "output_type": "display_data"
    }
   ],
   "source": [
    "for search_metric in [\"l2\", \"cosine\", \"dot\"]:\n",
    "    test_and_log(lambda x: search(x, db_tbl, search_metric),\n",
    "                 None,\n",
    "                 search_metric,\n",
    "                 \"none\")\n",
    "    "
   ]
  },
  {
   "cell_type": "markdown",
   "metadata": {},
   "source": [
    "## Try with feature extraction"
   ]
  },
  {
   "cell_type": "code",
   "execution_count": 11,
   "metadata": {},
   "outputs": [],
   "source": [
    "sample_audio = db_tbl.search().limit(1).select([\"song_num\", \"vector\"]).to_pandas().iloc[0][\"vector\"]"
   ]
  },
  {
   "cell_type": "code",
   "execution_count": 14,
   "metadata": {},
   "outputs": [
    {
     "name": "stdout",
     "output_type": "stream",
     "text": [
      "0\n",
      "158\n",
      "316\n",
      "474\n",
      "632\n",
      "0\n",
      "158\n",
      "316\n",
      "474\n",
      "632\n"
     ]
    }
   ],
   "source": [
    "embed_lookup_data(\n",
    "    lambda audio: extract_features(audio, aggregate=\"summary_stat\"),\n",
    "    audio_df,\n",
    "    \"audio_feat_eng_sumstat\"\n",
    ")\n",
    "\n",
    "embed_lookup_data(\n",
    "    lambda audio: extract_features(audio, aggregate=\"full\"),\n",
    "    audio_df,\n",
    "    \"audio_feat_eng_full\"\n",
    ")"
   ]
  },
  {
   "cell_type": "code",
   "execution_count": 15,
   "metadata": {},
   "outputs": [],
   "source": [
    "sumstat_tbl = db.open_table(\"audio_feat_eng_sumstat\")\n",
    "fullfeat_tbl = db.open_table(\"audio_feat_eng_full\")"
   ]
  },
  {
   "cell_type": "code",
   "execution_count": 16,
   "metadata": {},
   "outputs": [
    {
     "name": "stdout",
     "output_type": "stream",
     "text": [
      "Running test for condition: (offset == 0) and (pitch_shift == 0) and (time_stretch == 1.0)\n",
      "Running test for condition: (offset != 0) and (pitch_shift == 0) and (time_stretch == 1.0)\n",
      "Running test for condition: (offset == 0) and (pitch_shift != 0) and (time_stretch == 1.0)\n",
      "Running test for condition: (offset == 0) and (pitch_shift == 0) and (time_stretch != 1.0)\n",
      "Running test for condition: (offset == 0) and (pitch_shift != 0) and (time_stretch != 1.0)\n",
      "Running test for condition: (offset != 0) and (pitch_shift != 0) and (time_stretch != 1.0)\n",
      "mrr 0.4083333333333333 rr 0.4166666666666667\n"
     ]
    },
    {
     "data": {
      "text/html": [
       "Tracking run with wandb version 0.17.9"
      ],
      "text/plain": [
       "<IPython.core.display.HTML object>"
      ]
     },
     "metadata": {},
     "output_type": "display_data"
    },
    {
     "data": {
      "text/html": [
       "Run data is saved locally in <code>/home/angeline/ml-in-production-getting-started/module-3/experiments/wandb/run-20240913_172210-ima0vkvk</code>"
      ],
      "text/plain": [
       "<IPython.core.display.HTML object>"
      ]
     },
     "metadata": {},
     "output_type": "display_data"
    },
    {
     "data": {
      "text/html": [
       "Syncing run <strong><a href='https://wandb.ai/angeliney-georgian/children-song-dataset-retrieval/runs/ima0vkvk' target=\"_blank\">smart-thunder-34</a></strong> to <a href='https://wandb.ai/angeliney-georgian/children-song-dataset-retrieval' target=\"_blank\">Weights & Biases</a> (<a href='https://wandb.me/run' target=\"_blank\">docs</a>)<br/>"
      ],
      "text/plain": [
       "<IPython.core.display.HTML object>"
      ]
     },
     "metadata": {},
     "output_type": "display_data"
    },
    {
     "data": {
      "text/html": [
       " View project at <a href='https://wandb.ai/angeliney-georgian/children-song-dataset-retrieval' target=\"_blank\">https://wandb.ai/angeliney-georgian/children-song-dataset-retrieval</a>"
      ],
      "text/plain": [
       "<IPython.core.display.HTML object>"
      ]
     },
     "metadata": {},
     "output_type": "display_data"
    },
    {
     "data": {
      "text/html": [
       " View run at <a href='https://wandb.ai/angeliney-georgian/children-song-dataset-retrieval/runs/ima0vkvk' target=\"_blank\">https://wandb.ai/angeliney-georgian/children-song-dataset-retrieval/runs/ima0vkvk</a>"
      ],
      "text/plain": [
       "<IPython.core.display.HTML object>"
      ]
     },
     "metadata": {},
     "output_type": "display_data"
    },
    {
     "data": {
      "text/html": [
       "<style>\n",
       "    table.wandb td:nth-child(1) { padding: 0 10px; text-align: left ; width: auto;} td:nth-child(2) {text-align: left ; width: 100%}\n",
       "    .wandb-row { display: flex; flex-direction: row; flex-wrap: wrap; justify-content: flex-start; width: 100% }\n",
       "    .wandb-col { display: flex; flex-direction: column; flex-basis: 100%; flex: 1; padding: 10px; }\n",
       "    </style>\n",
       "<div class=\"wandb-row\"><div class=\"wandb-col\"><h3>Run history:</h3><br/><table class=\"wandb\"><tr><td>mrr</td><td>▁</td></tr><tr><td>retrieval_recall</td><td>▁</td></tr></table><br/></div><div class=\"wandb-col\"><h3>Run summary:</h3><br/><table class=\"wandb\"><tr><td>mrr</td><td>0.40833</td></tr><tr><td>retrieval_recall</td><td>0.41667</td></tr></table><br/></div></div>"
      ],
      "text/plain": [
       "<IPython.core.display.HTML object>"
      ]
     },
     "metadata": {},
     "output_type": "display_data"
    },
    {
     "data": {
      "text/html": [
       " View run <strong style=\"color:#cdcd00\">smart-thunder-34</strong> at: <a href='https://wandb.ai/angeliney-georgian/children-song-dataset-retrieval/runs/ima0vkvk' target=\"_blank\">https://wandb.ai/angeliney-georgian/children-song-dataset-retrieval/runs/ima0vkvk</a><br/> View project at: <a href='https://wandb.ai/angeliney-georgian/children-song-dataset-retrieval' target=\"_blank\">https://wandb.ai/angeliney-georgian/children-song-dataset-retrieval</a><br/>Synced 5 W&B file(s), 0 media file(s), 0 artifact file(s) and 0 other file(s)"
      ],
      "text/plain": [
       "<IPython.core.display.HTML object>"
      ]
     },
     "metadata": {},
     "output_type": "display_data"
    },
    {
     "data": {
      "text/html": [
       "Find logs at: <code>./wandb/run-20240913_172210-ima0vkvk/logs</code>"
      ],
      "text/plain": [
       "<IPython.core.display.HTML object>"
      ]
     },
     "metadata": {},
     "output_type": "display_data"
    },
    {
     "data": {
      "text/html": [
       "wandb version 0.18.0 is available!  To upgrade, please run:\n",
       " $ pip install wandb --upgrade"
      ],
      "text/plain": [
       "<IPython.core.display.HTML object>"
      ]
     },
     "metadata": {},
     "output_type": "display_data"
    },
    {
     "data": {
      "text/html": [
       "The new W&B backend becomes opt-out in version 0.18.0; try it out with `wandb.require(\"core\")`! See https://wandb.me/wandb-core for more information."
      ],
      "text/plain": [
       "<IPython.core.display.HTML object>"
      ]
     },
     "metadata": {},
     "output_type": "display_data"
    },
    {
     "name": "stdout",
     "output_type": "stream",
     "text": [
      "Running test for condition: (offset == 0) and (pitch_shift == 0) and (time_stretch == 1.0)\n",
      "Running test for condition: (offset != 0) and (pitch_shift == 0) and (time_stretch == 1.0)\n",
      "Running test for condition: (offset == 0) and (pitch_shift != 0) and (time_stretch == 1.0)\n",
      "Running test for condition: (offset == 0) and (pitch_shift == 0) and (time_stretch != 1.0)\n",
      "Running test for condition: (offset == 0) and (pitch_shift != 0) and (time_stretch != 1.0)\n",
      "Running test for condition: (offset != 0) and (pitch_shift != 0) and (time_stretch != 1.0)\n",
      "mrr 0.3861111111111111 rr 0.4166666666666667\n"
     ]
    },
    {
     "data": {
      "text/html": [
       "Tracking run with wandb version 0.17.9"
      ],
      "text/plain": [
       "<IPython.core.display.HTML object>"
      ]
     },
     "metadata": {},
     "output_type": "display_data"
    },
    {
     "data": {
      "text/html": [
       "Run data is saved locally in <code>/home/angeline/ml-in-production-getting-started/module-3/experiments/wandb/run-20240913_172245-1t7m3syn</code>"
      ],
      "text/plain": [
       "<IPython.core.display.HTML object>"
      ]
     },
     "metadata": {},
     "output_type": "display_data"
    },
    {
     "data": {
      "text/html": [
       "Syncing run <strong><a href='https://wandb.ai/angeliney-georgian/children-song-dataset-retrieval/runs/1t7m3syn' target=\"_blank\">apricot-water-35</a></strong> to <a href='https://wandb.ai/angeliney-georgian/children-song-dataset-retrieval' target=\"_blank\">Weights & Biases</a> (<a href='https://wandb.me/run' target=\"_blank\">docs</a>)<br/>"
      ],
      "text/plain": [
       "<IPython.core.display.HTML object>"
      ]
     },
     "metadata": {},
     "output_type": "display_data"
    },
    {
     "data": {
      "text/html": [
       " View project at <a href='https://wandb.ai/angeliney-georgian/children-song-dataset-retrieval' target=\"_blank\">https://wandb.ai/angeliney-georgian/children-song-dataset-retrieval</a>"
      ],
      "text/plain": [
       "<IPython.core.display.HTML object>"
      ]
     },
     "metadata": {},
     "output_type": "display_data"
    },
    {
     "data": {
      "text/html": [
       " View run at <a href='https://wandb.ai/angeliney-georgian/children-song-dataset-retrieval/runs/1t7m3syn' target=\"_blank\">https://wandb.ai/angeliney-georgian/children-song-dataset-retrieval/runs/1t7m3syn</a>"
      ],
      "text/plain": [
       "<IPython.core.display.HTML object>"
      ]
     },
     "metadata": {},
     "output_type": "display_data"
    },
    {
     "data": {
      "text/html": [
       "<style>\n",
       "    table.wandb td:nth-child(1) { padding: 0 10px; text-align: left ; width: auto;} td:nth-child(2) {text-align: left ; width: 100%}\n",
       "    .wandb-row { display: flex; flex-direction: row; flex-wrap: wrap; justify-content: flex-start; width: 100% }\n",
       "    .wandb-col { display: flex; flex-direction: column; flex-basis: 100%; flex: 1; padding: 10px; }\n",
       "    </style>\n",
       "<div class=\"wandb-row\"><div class=\"wandb-col\"><h3>Run history:</h3><br/><table class=\"wandb\"><tr><td>mrr</td><td>▁</td></tr><tr><td>retrieval_recall</td><td>▁</td></tr></table><br/></div><div class=\"wandb-col\"><h3>Run summary:</h3><br/><table class=\"wandb\"><tr><td>mrr</td><td>0.38611</td></tr><tr><td>retrieval_recall</td><td>0.41667</td></tr></table><br/></div></div>"
      ],
      "text/plain": [
       "<IPython.core.display.HTML object>"
      ]
     },
     "metadata": {},
     "output_type": "display_data"
    },
    {
     "data": {
      "text/html": [
       " View run <strong style=\"color:#cdcd00\">apricot-water-35</strong> at: <a href='https://wandb.ai/angeliney-georgian/children-song-dataset-retrieval/runs/1t7m3syn' target=\"_blank\">https://wandb.ai/angeliney-georgian/children-song-dataset-retrieval/runs/1t7m3syn</a><br/> View project at: <a href='https://wandb.ai/angeliney-georgian/children-song-dataset-retrieval' target=\"_blank\">https://wandb.ai/angeliney-georgian/children-song-dataset-retrieval</a><br/>Synced 5 W&B file(s), 0 media file(s), 0 artifact file(s) and 0 other file(s)"
      ],
      "text/plain": [
       "<IPython.core.display.HTML object>"
      ]
     },
     "metadata": {},
     "output_type": "display_data"
    },
    {
     "data": {
      "text/html": [
       "Find logs at: <code>./wandb/run-20240913_172245-1t7m3syn/logs</code>"
      ],
      "text/plain": [
       "<IPython.core.display.HTML object>"
      ]
     },
     "metadata": {},
     "output_type": "display_data"
    },
    {
     "data": {
      "text/html": [
       "wandb version 0.18.0 is available!  To upgrade, please run:\n",
       " $ pip install wandb --upgrade"
      ],
      "text/plain": [
       "<IPython.core.display.HTML object>"
      ]
     },
     "metadata": {},
     "output_type": "display_data"
    },
    {
     "data": {
      "text/html": [
       "The new W&B backend becomes opt-out in version 0.18.0; try it out with `wandb.require(\"core\")`! See https://wandb.me/wandb-core for more information."
      ],
      "text/plain": [
       "<IPython.core.display.HTML object>"
      ]
     },
     "metadata": {},
     "output_type": "display_data"
    },
    {
     "name": "stdout",
     "output_type": "stream",
     "text": [
      "Running test for condition: (offset == 0) and (pitch_shift == 0) and (time_stretch == 1.0)\n",
      "Running test for condition: (offset != 0) and (pitch_shift == 0) and (time_stretch == 1.0)\n",
      "Running test for condition: (offset == 0) and (pitch_shift != 0) and (time_stretch == 1.0)\n",
      "Running test for condition: (offset == 0) and (pitch_shift == 0) and (time_stretch != 1.0)\n",
      "Running test for condition: (offset == 0) and (pitch_shift != 0) and (time_stretch != 1.0)\n",
      "Running test for condition: (offset != 0) and (pitch_shift != 0) and (time_stretch != 1.0)\n",
      "mrr 0.4305555555555555 rr 0.4666666666666667\n"
     ]
    },
    {
     "data": {
      "text/html": [
       "Tracking run with wandb version 0.17.9"
      ],
      "text/plain": [
       "<IPython.core.display.HTML object>"
      ]
     },
     "metadata": {},
     "output_type": "display_data"
    },
    {
     "data": {
      "text/html": [
       "Run data is saved locally in <code>/home/angeline/ml-in-production-getting-started/module-3/experiments/wandb/run-20240913_172311-y2o4ddfd</code>"
      ],
      "text/plain": [
       "<IPython.core.display.HTML object>"
      ]
     },
     "metadata": {},
     "output_type": "display_data"
    },
    {
     "data": {
      "text/html": [
       "Syncing run <strong><a href='https://wandb.ai/angeliney-georgian/children-song-dataset-retrieval/runs/y2o4ddfd' target=\"_blank\">eternal-sea-36</a></strong> to <a href='https://wandb.ai/angeliney-georgian/children-song-dataset-retrieval' target=\"_blank\">Weights & Biases</a> (<a href='https://wandb.me/run' target=\"_blank\">docs</a>)<br/>"
      ],
      "text/plain": [
       "<IPython.core.display.HTML object>"
      ]
     },
     "metadata": {},
     "output_type": "display_data"
    },
    {
     "data": {
      "text/html": [
       " View project at <a href='https://wandb.ai/angeliney-georgian/children-song-dataset-retrieval' target=\"_blank\">https://wandb.ai/angeliney-georgian/children-song-dataset-retrieval</a>"
      ],
      "text/plain": [
       "<IPython.core.display.HTML object>"
      ]
     },
     "metadata": {},
     "output_type": "display_data"
    },
    {
     "data": {
      "text/html": [
       " View run at <a href='https://wandb.ai/angeliney-georgian/children-song-dataset-retrieval/runs/y2o4ddfd' target=\"_blank\">https://wandb.ai/angeliney-georgian/children-song-dataset-retrieval/runs/y2o4ddfd</a>"
      ],
      "text/plain": [
       "<IPython.core.display.HTML object>"
      ]
     },
     "metadata": {},
     "output_type": "display_data"
    },
    {
     "data": {
      "text/html": [
       "<style>\n",
       "    table.wandb td:nth-child(1) { padding: 0 10px; text-align: left ; width: auto;} td:nth-child(2) {text-align: left ; width: 100%}\n",
       "    .wandb-row { display: flex; flex-direction: row; flex-wrap: wrap; justify-content: flex-start; width: 100% }\n",
       "    .wandb-col { display: flex; flex-direction: column; flex-basis: 100%; flex: 1; padding: 10px; }\n",
       "    </style>\n",
       "<div class=\"wandb-row\"><div class=\"wandb-col\"><h3>Run history:</h3><br/><table class=\"wandb\"><tr><td>mrr</td><td>▁</td></tr><tr><td>retrieval_recall</td><td>▁</td></tr></table><br/></div><div class=\"wandb-col\"><h3>Run summary:</h3><br/><table class=\"wandb\"><tr><td>mrr</td><td>0.43056</td></tr><tr><td>retrieval_recall</td><td>0.46667</td></tr></table><br/></div></div>"
      ],
      "text/plain": [
       "<IPython.core.display.HTML object>"
      ]
     },
     "metadata": {},
     "output_type": "display_data"
    },
    {
     "data": {
      "text/html": [
       " View run <strong style=\"color:#cdcd00\">eternal-sea-36</strong> at: <a href='https://wandb.ai/angeliney-georgian/children-song-dataset-retrieval/runs/y2o4ddfd' target=\"_blank\">https://wandb.ai/angeliney-georgian/children-song-dataset-retrieval/runs/y2o4ddfd</a><br/> View project at: <a href='https://wandb.ai/angeliney-georgian/children-song-dataset-retrieval' target=\"_blank\">https://wandb.ai/angeliney-georgian/children-song-dataset-retrieval</a><br/>Synced 5 W&B file(s), 0 media file(s), 0 artifact file(s) and 0 other file(s)"
      ],
      "text/plain": [
       "<IPython.core.display.HTML object>"
      ]
     },
     "metadata": {},
     "output_type": "display_data"
    },
    {
     "data": {
      "text/html": [
       "Find logs at: <code>./wandb/run-20240913_172311-y2o4ddfd/logs</code>"
      ],
      "text/plain": [
       "<IPython.core.display.HTML object>"
      ]
     },
     "metadata": {},
     "output_type": "display_data"
    },
    {
     "data": {
      "text/html": [
       "wandb version 0.18.0 is available!  To upgrade, please run:\n",
       " $ pip install wandb --upgrade"
      ],
      "text/plain": [
       "<IPython.core.display.HTML object>"
      ]
     },
     "metadata": {},
     "output_type": "display_data"
    },
    {
     "data": {
      "text/html": [
       "The new W&B backend becomes opt-out in version 0.18.0; try it out with `wandb.require(\"core\")`! See https://wandb.me/wandb-core for more information."
      ],
      "text/plain": [
       "<IPython.core.display.HTML object>"
      ]
     },
     "metadata": {},
     "output_type": "display_data"
    },
    {
     "name": "stdout",
     "output_type": "stream",
     "text": [
      "Running test for condition: (offset == 0) and (pitch_shift == 0) and (time_stretch == 1.0)\n",
      "Running test for condition: (offset != 0) and (pitch_shift == 0) and (time_stretch == 1.0)\n",
      "Running test for condition: (offset == 0) and (pitch_shift != 0) and (time_stretch == 1.0)\n",
      "Running test for condition: (offset == 0) and (pitch_shift == 0) and (time_stretch != 1.0)\n",
      "Running test for condition: (offset == 0) and (pitch_shift != 0) and (time_stretch != 1.0)\n",
      "Running test for condition: (offset != 0) and (pitch_shift != 0) and (time_stretch != 1.0)\n",
      "mrr 0.35833333333333334 rr 0.36666666666666664\n"
     ]
    },
    {
     "data": {
      "text/html": [
       "Tracking run with wandb version 0.17.9"
      ],
      "text/plain": [
       "<IPython.core.display.HTML object>"
      ]
     },
     "metadata": {},
     "output_type": "display_data"
    },
    {
     "data": {
      "text/html": [
       "Run data is saved locally in <code>/home/angeline/ml-in-production-getting-started/module-3/experiments/wandb/run-20240913_172342-2apahhwb</code>"
      ],
      "text/plain": [
       "<IPython.core.display.HTML object>"
      ]
     },
     "metadata": {},
     "output_type": "display_data"
    },
    {
     "data": {
      "text/html": [
       "Syncing run <strong><a href='https://wandb.ai/angeliney-georgian/children-song-dataset-retrieval/runs/2apahhwb' target=\"_blank\">deep-morning-37</a></strong> to <a href='https://wandb.ai/angeliney-georgian/children-song-dataset-retrieval' target=\"_blank\">Weights & Biases</a> (<a href='https://wandb.me/run' target=\"_blank\">docs</a>)<br/>"
      ],
      "text/plain": [
       "<IPython.core.display.HTML object>"
      ]
     },
     "metadata": {},
     "output_type": "display_data"
    },
    {
     "data": {
      "text/html": [
       " View project at <a href='https://wandb.ai/angeliney-georgian/children-song-dataset-retrieval' target=\"_blank\">https://wandb.ai/angeliney-georgian/children-song-dataset-retrieval</a>"
      ],
      "text/plain": [
       "<IPython.core.display.HTML object>"
      ]
     },
     "metadata": {},
     "output_type": "display_data"
    },
    {
     "data": {
      "text/html": [
       " View run at <a href='https://wandb.ai/angeliney-georgian/children-song-dataset-retrieval/runs/2apahhwb' target=\"_blank\">https://wandb.ai/angeliney-georgian/children-song-dataset-retrieval/runs/2apahhwb</a>"
      ],
      "text/plain": [
       "<IPython.core.display.HTML object>"
      ]
     },
     "metadata": {},
     "output_type": "display_data"
    },
    {
     "data": {
      "text/html": [
       "<style>\n",
       "    table.wandb td:nth-child(1) { padding: 0 10px; text-align: left ; width: auto;} td:nth-child(2) {text-align: left ; width: 100%}\n",
       "    .wandb-row { display: flex; flex-direction: row; flex-wrap: wrap; justify-content: flex-start; width: 100% }\n",
       "    .wandb-col { display: flex; flex-direction: column; flex-basis: 100%; flex: 1; padding: 10px; }\n",
       "    </style>\n",
       "<div class=\"wandb-row\"><div class=\"wandb-col\"><h3>Run history:</h3><br/><table class=\"wandb\"><tr><td>mrr</td><td>▁</td></tr><tr><td>retrieval_recall</td><td>▁</td></tr></table><br/></div><div class=\"wandb-col\"><h3>Run summary:</h3><br/><table class=\"wandb\"><tr><td>mrr</td><td>0.35833</td></tr><tr><td>retrieval_recall</td><td>0.36667</td></tr></table><br/></div></div>"
      ],
      "text/plain": [
       "<IPython.core.display.HTML object>"
      ]
     },
     "metadata": {},
     "output_type": "display_data"
    },
    {
     "data": {
      "text/html": [
       " View run <strong style=\"color:#cdcd00\">deep-morning-37</strong> at: <a href='https://wandb.ai/angeliney-georgian/children-song-dataset-retrieval/runs/2apahhwb' target=\"_blank\">https://wandb.ai/angeliney-georgian/children-song-dataset-retrieval/runs/2apahhwb</a><br/> View project at: <a href='https://wandb.ai/angeliney-georgian/children-song-dataset-retrieval' target=\"_blank\">https://wandb.ai/angeliney-georgian/children-song-dataset-retrieval</a><br/>Synced 5 W&B file(s), 0 media file(s), 0 artifact file(s) and 0 other file(s)"
      ],
      "text/plain": [
       "<IPython.core.display.HTML object>"
      ]
     },
     "metadata": {},
     "output_type": "display_data"
    },
    {
     "data": {
      "text/html": [
       "Find logs at: <code>./wandb/run-20240913_172342-2apahhwb/logs</code>"
      ],
      "text/plain": [
       "<IPython.core.display.HTML object>"
      ]
     },
     "metadata": {},
     "output_type": "display_data"
    },
    {
     "data": {
      "text/html": [
       "wandb version 0.18.0 is available!  To upgrade, please run:\n",
       " $ pip install wandb --upgrade"
      ],
      "text/plain": [
       "<IPython.core.display.HTML object>"
      ]
     },
     "metadata": {},
     "output_type": "display_data"
    },
    {
     "data": {
      "text/html": [
       "The new W&B backend becomes opt-out in version 0.18.0; try it out with `wandb.require(\"core\")`! See https://wandb.me/wandb-core for more information."
      ],
      "text/plain": [
       "<IPython.core.display.HTML object>"
      ]
     },
     "metadata": {},
     "output_type": "display_data"
    },
    {
     "name": "stdout",
     "output_type": "stream",
     "text": [
      "Running test for condition: (offset == 0) and (pitch_shift == 0) and (time_stretch == 1.0)\n",
      "Running test for condition: (offset != 0) and (pitch_shift == 0) and (time_stretch == 1.0)\n",
      "Running test for condition: (offset == 0) and (pitch_shift != 0) and (time_stretch == 1.0)\n",
      "Running test for condition: (offset == 0) and (pitch_shift == 0) and (time_stretch != 1.0)\n",
      "Running test for condition: (offset == 0) and (pitch_shift != 0) and (time_stretch != 1.0)\n",
      "Running test for condition: (offset != 0) and (pitch_shift != 0) and (time_stretch != 1.0)\n",
      "mrr 0.0 rr 0.0\n"
     ]
    },
    {
     "data": {
      "text/html": [
       "Tracking run with wandb version 0.17.9"
      ],
      "text/plain": [
       "<IPython.core.display.HTML object>"
      ]
     },
     "metadata": {},
     "output_type": "display_data"
    },
    {
     "data": {
      "text/html": [
       "Run data is saved locally in <code>/home/angeline/ml-in-production-getting-started/module-3/experiments/wandb/run-20240913_172406-9hssc2wo</code>"
      ],
      "text/plain": [
       "<IPython.core.display.HTML object>"
      ]
     },
     "metadata": {},
     "output_type": "display_data"
    },
    {
     "data": {
      "text/html": [
       "Syncing run <strong><a href='https://wandb.ai/angeliney-georgian/children-song-dataset-retrieval/runs/9hssc2wo' target=\"_blank\">morning-pine-38</a></strong> to <a href='https://wandb.ai/angeliney-georgian/children-song-dataset-retrieval' target=\"_blank\">Weights & Biases</a> (<a href='https://wandb.me/run' target=\"_blank\">docs</a>)<br/>"
      ],
      "text/plain": [
       "<IPython.core.display.HTML object>"
      ]
     },
     "metadata": {},
     "output_type": "display_data"
    },
    {
     "data": {
      "text/html": [
       " View project at <a href='https://wandb.ai/angeliney-georgian/children-song-dataset-retrieval' target=\"_blank\">https://wandb.ai/angeliney-georgian/children-song-dataset-retrieval</a>"
      ],
      "text/plain": [
       "<IPython.core.display.HTML object>"
      ]
     },
     "metadata": {},
     "output_type": "display_data"
    },
    {
     "data": {
      "text/html": [
       " View run at <a href='https://wandb.ai/angeliney-georgian/children-song-dataset-retrieval/runs/9hssc2wo' target=\"_blank\">https://wandb.ai/angeliney-georgian/children-song-dataset-retrieval/runs/9hssc2wo</a>"
      ],
      "text/plain": [
       "<IPython.core.display.HTML object>"
      ]
     },
     "metadata": {},
     "output_type": "display_data"
    },
    {
     "data": {
      "text/html": [
       "<style>\n",
       "    table.wandb td:nth-child(1) { padding: 0 10px; text-align: left ; width: auto;} td:nth-child(2) {text-align: left ; width: 100%}\n",
       "    .wandb-row { display: flex; flex-direction: row; flex-wrap: wrap; justify-content: flex-start; width: 100% }\n",
       "    .wandb-col { display: flex; flex-direction: column; flex-basis: 100%; flex: 1; padding: 10px; }\n",
       "    </style>\n",
       "<div class=\"wandb-row\"><div class=\"wandb-col\"><h3>Run history:</h3><br/><table class=\"wandb\"><tr><td>mrr</td><td>▁</td></tr><tr><td>retrieval_recall</td><td>▁</td></tr></table><br/></div><div class=\"wandb-col\"><h3>Run summary:</h3><br/><table class=\"wandb\"><tr><td>mrr</td><td>0.0</td></tr><tr><td>retrieval_recall</td><td>0.0</td></tr></table><br/></div></div>"
      ],
      "text/plain": [
       "<IPython.core.display.HTML object>"
      ]
     },
     "metadata": {},
     "output_type": "display_data"
    },
    {
     "data": {
      "text/html": [
       " View run <strong style=\"color:#cdcd00\">morning-pine-38</strong> at: <a href='https://wandb.ai/angeliney-georgian/children-song-dataset-retrieval/runs/9hssc2wo' target=\"_blank\">https://wandb.ai/angeliney-georgian/children-song-dataset-retrieval/runs/9hssc2wo</a><br/> View project at: <a href='https://wandb.ai/angeliney-georgian/children-song-dataset-retrieval' target=\"_blank\">https://wandb.ai/angeliney-georgian/children-song-dataset-retrieval</a><br/>Synced 5 W&B file(s), 0 media file(s), 0 artifact file(s) and 0 other file(s)"
      ],
      "text/plain": [
       "<IPython.core.display.HTML object>"
      ]
     },
     "metadata": {},
     "output_type": "display_data"
    },
    {
     "data": {
      "text/html": [
       "Find logs at: <code>./wandb/run-20240913_172406-9hssc2wo/logs</code>"
      ],
      "text/plain": [
       "<IPython.core.display.HTML object>"
      ]
     },
     "metadata": {},
     "output_type": "display_data"
    },
    {
     "data": {
      "text/html": [
       "wandb version 0.18.0 is available!  To upgrade, please run:\n",
       " $ pip install wandb --upgrade"
      ],
      "text/plain": [
       "<IPython.core.display.HTML object>"
      ]
     },
     "metadata": {},
     "output_type": "display_data"
    },
    {
     "data": {
      "text/html": [
       "The new W&B backend becomes opt-out in version 0.18.0; try it out with `wandb.require(\"core\")`! See https://wandb.me/wandb-core for more information."
      ],
      "text/plain": [
       "<IPython.core.display.HTML object>"
      ]
     },
     "metadata": {},
     "output_type": "display_data"
    },
    {
     "name": "stdout",
     "output_type": "stream",
     "text": [
      "Running test for condition: (offset == 0) and (pitch_shift == 0) and (time_stretch == 1.0)\n",
      "Running test for condition: (offset != 0) and (pitch_shift == 0) and (time_stretch == 1.0)\n",
      "Running test for condition: (offset == 0) and (pitch_shift != 0) and (time_stretch == 1.0)\n",
      "Running test for condition: (offset == 0) and (pitch_shift == 0) and (time_stretch != 1.0)\n",
      "Running test for condition: (offset == 0) and (pitch_shift != 0) and (time_stretch != 1.0)\n",
      "Running test for condition: (offset != 0) and (pitch_shift != 0) and (time_stretch != 1.0)\n",
      "mrr 0.0 rr 0.0\n"
     ]
    },
    {
     "data": {
      "text/html": [
       "Tracking run with wandb version 0.17.9"
      ],
      "text/plain": [
       "<IPython.core.display.HTML object>"
      ]
     },
     "metadata": {},
     "output_type": "display_data"
    },
    {
     "data": {
      "text/html": [
       "Run data is saved locally in <code>/home/angeline/ml-in-production-getting-started/module-3/experiments/wandb/run-20240913_172439-28host4v</code>"
      ],
      "text/plain": [
       "<IPython.core.display.HTML object>"
      ]
     },
     "metadata": {},
     "output_type": "display_data"
    },
    {
     "data": {
      "text/html": [
       "Syncing run <strong><a href='https://wandb.ai/angeliney-georgian/children-song-dataset-retrieval/runs/28host4v' target=\"_blank\">glowing-donkey-39</a></strong> to <a href='https://wandb.ai/angeliney-georgian/children-song-dataset-retrieval' target=\"_blank\">Weights & Biases</a> (<a href='https://wandb.me/run' target=\"_blank\">docs</a>)<br/>"
      ],
      "text/plain": [
       "<IPython.core.display.HTML object>"
      ]
     },
     "metadata": {},
     "output_type": "display_data"
    },
    {
     "data": {
      "text/html": [
       " View project at <a href='https://wandb.ai/angeliney-georgian/children-song-dataset-retrieval' target=\"_blank\">https://wandb.ai/angeliney-georgian/children-song-dataset-retrieval</a>"
      ],
      "text/plain": [
       "<IPython.core.display.HTML object>"
      ]
     },
     "metadata": {},
     "output_type": "display_data"
    },
    {
     "data": {
      "text/html": [
       " View run at <a href='https://wandb.ai/angeliney-georgian/children-song-dataset-retrieval/runs/28host4v' target=\"_blank\">https://wandb.ai/angeliney-georgian/children-song-dataset-retrieval/runs/28host4v</a>"
      ],
      "text/plain": [
       "<IPython.core.display.HTML object>"
      ]
     },
     "metadata": {},
     "output_type": "display_data"
    },
    {
     "data": {
      "text/html": [
       "<style>\n",
       "    table.wandb td:nth-child(1) { padding: 0 10px; text-align: left ; width: auto;} td:nth-child(2) {text-align: left ; width: 100%}\n",
       "    .wandb-row { display: flex; flex-direction: row; flex-wrap: wrap; justify-content: flex-start; width: 100% }\n",
       "    .wandb-col { display: flex; flex-direction: column; flex-basis: 100%; flex: 1; padding: 10px; }\n",
       "    </style>\n",
       "<div class=\"wandb-row\"><div class=\"wandb-col\"><h3>Run history:</h3><br/><table class=\"wandb\"><tr><td>mrr</td><td>▁</td></tr><tr><td>retrieval_recall</td><td>▁</td></tr></table><br/></div><div class=\"wandb-col\"><h3>Run summary:</h3><br/><table class=\"wandb\"><tr><td>mrr</td><td>0.0</td></tr><tr><td>retrieval_recall</td><td>0.0</td></tr></table><br/></div></div>"
      ],
      "text/plain": [
       "<IPython.core.display.HTML object>"
      ]
     },
     "metadata": {},
     "output_type": "display_data"
    },
    {
     "data": {
      "text/html": [
       " View run <strong style=\"color:#cdcd00\">glowing-donkey-39</strong> at: <a href='https://wandb.ai/angeliney-georgian/children-song-dataset-retrieval/runs/28host4v' target=\"_blank\">https://wandb.ai/angeliney-georgian/children-song-dataset-retrieval/runs/28host4v</a><br/> View project at: <a href='https://wandb.ai/angeliney-georgian/children-song-dataset-retrieval' target=\"_blank\">https://wandb.ai/angeliney-georgian/children-song-dataset-retrieval</a><br/>Synced 5 W&B file(s), 0 media file(s), 0 artifact file(s) and 0 other file(s)"
      ],
      "text/plain": [
       "<IPython.core.display.HTML object>"
      ]
     },
     "metadata": {},
     "output_type": "display_data"
    },
    {
     "data": {
      "text/html": [
       "Find logs at: <code>./wandb/run-20240913_172439-28host4v/logs</code>"
      ],
      "text/plain": [
       "<IPython.core.display.HTML object>"
      ]
     },
     "metadata": {},
     "output_type": "display_data"
    },
    {
     "data": {
      "text/html": [
       "wandb version 0.18.0 is available!  To upgrade, please run:\n",
       " $ pip install wandb --upgrade"
      ],
      "text/plain": [
       "<IPython.core.display.HTML object>"
      ]
     },
     "metadata": {},
     "output_type": "display_data"
    },
    {
     "data": {
      "text/html": [
       "The new W&B backend becomes opt-out in version 0.18.0; try it out with `wandb.require(\"core\")`! See https://wandb.me/wandb-core for more information."
      ],
      "text/plain": [
       "<IPython.core.display.HTML object>"
      ]
     },
     "metadata": {},
     "output_type": "display_data"
    }
   ],
   "source": [
    "for search_metric in [\"l2\", \"cosine\", \"dot\"]:\n",
    "    test_and_log(\n",
    "        lambda x: search(x, sumstat_tbl, search_metric),\n",
    "        lambda audio: extract_features(audio, aggregate=\"summary_stat\"),\n",
    "        search_metric,\n",
    "        \"audio_feat_eng_sumstat\"\n",
    "    )\n",
    "\n",
    "    test_and_log(\n",
    "        lambda x: search(x, fullfeat_tbl, search_metric),\n",
    "        lambda audio: extract_features(audio, aggregate=\"full\"),\n",
    "        search_metric,\n",
    "        \"audio_feat_eng_full\"\n",
    "    )"
   ]
  },
  {
   "cell_type": "markdown",
   "metadata": {},
   "source": [
    "## Try hubert or other audio pre-trained embedder"
   ]
  },
  {
   "cell_type": "code",
   "execution_count": 7,
   "metadata": {},
   "outputs": [],
   "source": [
    "import torch\n",
    "import librosa\n",
    "\n",
    "\n",
    "def embed_with_model(audio, processor, model, output_field=None):\n",
    "    y_16k = librosa.resample(audio, orig_sr=44100, target_sr=16000)\n",
    "\n",
    "    # Preprocess the audio for the model\n",
    "    inputs = processor(y_16k, sampling_rate=16000, return_tensors=\"pt\", padding=True)\n",
    "\n",
    "    # Pass the inputs to the model\n",
    "    with torch.no_grad():\n",
    "        out = model(**inputs)\n",
    "\n",
    "    if output_field:\n",
    "        out = out[output_field] #last_hidden_state or extract_features\n",
    "\n",
    "    return out\n"
   ]
  },
  {
   "cell_type": "code",
   "execution_count": 11,
   "metadata": {},
   "outputs": [
    {
     "name": "stderr",
     "output_type": "stream",
     "text": [
      "/home/angeline/miniconda3/envs/mlops-training/lib/python3.12/site-packages/transformers/tokenization_utils_base.py:1601: FutureWarning: `clean_up_tokenization_spaces` was not set. It will be set to `True` by default. This behavior will be depracted in transformers v4.45, and will be then set to `False` by default. For more details check this issue: https://github.com/huggingface/transformers/issues/31884\n",
      "  warnings.warn(\n",
      "Some weights of Wav2Vec2Model were not initialized from the model checkpoint at facebook/wav2vec2-base-960h and are newly initialized: ['wav2vec2.encoder.pos_conv_embed.conv.parametrizations.weight.original0', 'wav2vec2.encoder.pos_conv_embed.conv.parametrizations.weight.original1', 'wav2vec2.masked_spec_embed']\n",
      "You should probably TRAIN this model on a down-stream task to be able to use it for predictions and inference.\n"
     ]
    }
   ],
   "source": [
    "from transformers import Wav2Vec2Processor, Wav2Vec2Model\n",
    "\n",
    "# Load the pretrained Wav2Vec2 model and processor\n",
    "processor = Wav2Vec2Processor.from_pretrained(\"facebook/wav2vec2-base-960h\")\n",
    "model = Wav2Vec2Model.from_pretrained(\"facebook/wav2vec2-base-960h\")\n",
    "\n",
    "out = embed_with_model(sample_audio, processor, model)"
   ]
  },
  {
   "cell_type": "code",
   "execution_count": 13,
   "metadata": {},
   "outputs": [
    {
     "data": {
      "text/plain": [
       "dict_keys(['last_hidden_state', 'extract_features', 'hidden_states', 'attentions'])"
      ]
     },
     "execution_count": 13,
     "metadata": {},
     "output_type": "execute_result"
    }
   ],
   "source": [
    "out.__dict__.keys()"
   ]
  },
  {
   "cell_type": "code",
   "execution_count": 19,
   "metadata": {},
   "outputs": [
    {
     "data": {
      "text/plain": [
       "(255488,)"
      ]
     },
     "execution_count": 19,
     "metadata": {},
     "output_type": "execute_result"
    }
   ],
   "source": [
    "out[\"extract_features\"].numpy().flatten().shape"
   ]
  },
  {
   "cell_type": "code",
   "execution_count": 20,
   "metadata": {},
   "outputs": [
    {
     "name": "stdout",
     "output_type": "stream",
     "text": [
      "0\n",
      "158\n",
      "316\n",
      "474\n",
      "632\n"
     ]
    }
   ],
   "source": [
    "embed_lookup_data(\n",
    "    lambda audio: embed_with_model(audio, processor, model, output_field=\"last_hidden_state\").numpy().flatten(),\n",
    "    audio_df,\n",
    "    \"audio_feat_wav2vec2_last_hidden_state\"\n",
    ")"
   ]
  },
  {
   "cell_type": "code",
   "execution_count": 21,
   "metadata": {},
   "outputs": [
    {
     "name": "stdout",
     "output_type": "stream",
     "text": [
      "0\n",
      "158\n",
      "316\n",
      "474\n",
      "632\n"
     ]
    }
   ],
   "source": [
    "embed_lookup_data(\n",
    "    lambda audio: embed_with_model(audio, processor, model, output_field=\"extract_features\").numpy().flatten(),\n",
    "    audio_df,\n",
    "    \"audio_feat_wav2vec2_extract_features\"\n",
    ")"
   ]
  },
  {
   "cell_type": "code",
   "execution_count": 22,
   "metadata": {},
   "outputs": [],
   "source": [
    "wav2vec2_hidden_state_tbl = db.open_table(\"audio_feat_wav2vec2_last_hidden_state\")\n",
    "wav2vec2_extract_feat_tbl = db.open_table(\"audio_feat_wav2vec2_extract_features\")"
   ]
  },
  {
   "cell_type": "code",
   "execution_count": 23,
   "metadata": {},
   "outputs": [
    {
     "name": "stdout",
     "output_type": "stream",
     "text": [
      "Running test for condition: (offset == 0) and (pitch_shift == 0) and (time_stretch == 1.0)\n",
      "Running test for condition: (offset != 0) and (pitch_shift == 0) and (time_stretch == 1.0)\n",
      "Running test for condition: (offset == 0) and (pitch_shift != 0) and (time_stretch == 1.0)\n",
      "Running test for condition: (offset == 0) and (pitch_shift == 0) and (time_stretch != 1.0)\n",
      "Running test for condition: (offset == 0) and (pitch_shift != 0) and (time_stretch != 1.0)\n",
      "Running test for condition: (offset != 0) and (pitch_shift != 0) and (time_stretch != 1.0)\n",
      "mrr 0.2916666666666667 rr 0.3\n"
     ]
    },
    {
     "data": {
      "text/html": [
       "Tracking run with wandb version 0.17.9"
      ],
      "text/plain": [
       "<IPython.core.display.HTML object>"
      ]
     },
     "metadata": {},
     "output_type": "display_data"
    },
    {
     "data": {
      "text/html": [
       "Run data is saved locally in <code>/home/angeline/ml-in-production-getting-started/module-3/experiments/wandb/run-20240912_142710-vz45mzy6</code>"
      ],
      "text/plain": [
       "<IPython.core.display.HTML object>"
      ]
     },
     "metadata": {},
     "output_type": "display_data"
    },
    {
     "data": {
      "text/html": [
       "Syncing run <strong><a href='https://wandb.ai/angeliney-georgian/children-song-dataset-retrieval/runs/vz45mzy6' target=\"_blank\">charmed-microwave-21</a></strong> to <a href='https://wandb.ai/angeliney-georgian/children-song-dataset-retrieval' target=\"_blank\">Weights & Biases</a> (<a href='https://wandb.me/run' target=\"_blank\">docs</a>)<br/>"
      ],
      "text/plain": [
       "<IPython.core.display.HTML object>"
      ]
     },
     "metadata": {},
     "output_type": "display_data"
    },
    {
     "data": {
      "text/html": [
       " View project at <a href='https://wandb.ai/angeliney-georgian/children-song-dataset-retrieval' target=\"_blank\">https://wandb.ai/angeliney-georgian/children-song-dataset-retrieval</a>"
      ],
      "text/plain": [
       "<IPython.core.display.HTML object>"
      ]
     },
     "metadata": {},
     "output_type": "display_data"
    },
    {
     "data": {
      "text/html": [
       " View run at <a href='https://wandb.ai/angeliney-georgian/children-song-dataset-retrieval/runs/vz45mzy6' target=\"_blank\">https://wandb.ai/angeliney-georgian/children-song-dataset-retrieval/runs/vz45mzy6</a>"
      ],
      "text/plain": [
       "<IPython.core.display.HTML object>"
      ]
     },
     "metadata": {},
     "output_type": "display_data"
    },
    {
     "data": {
      "text/html": [
       "<style>\n",
       "    table.wandb td:nth-child(1) { padding: 0 10px; text-align: left ; width: auto;} td:nth-child(2) {text-align: left ; width: 100%}\n",
       "    .wandb-row { display: flex; flex-direction: row; flex-wrap: wrap; justify-content: flex-start; width: 100% }\n",
       "    .wandb-col { display: flex; flex-direction: column; flex-basis: 100%; flex: 1; padding: 10px; }\n",
       "    </style>\n",
       "<div class=\"wandb-row\"><div class=\"wandb-col\"><h3>Run history:</h3><br/><table class=\"wandb\"><tr><td>mrr</td><td>▁</td></tr><tr><td>retrieval_recall</td><td>▁</td></tr></table><br/></div><div class=\"wandb-col\"><h3>Run summary:</h3><br/><table class=\"wandb\"><tr><td>mrr</td><td>0.29167</td></tr><tr><td>retrieval_recall</td><td>0.3</td></tr></table><br/></div></div>"
      ],
      "text/plain": [
       "<IPython.core.display.HTML object>"
      ]
     },
     "metadata": {},
     "output_type": "display_data"
    },
    {
     "data": {
      "text/html": [
       " View run <strong style=\"color:#cdcd00\">charmed-microwave-21</strong> at: <a href='https://wandb.ai/angeliney-georgian/children-song-dataset-retrieval/runs/vz45mzy6' target=\"_blank\">https://wandb.ai/angeliney-georgian/children-song-dataset-retrieval/runs/vz45mzy6</a><br/> View project at: <a href='https://wandb.ai/angeliney-georgian/children-song-dataset-retrieval' target=\"_blank\">https://wandb.ai/angeliney-georgian/children-song-dataset-retrieval</a><br/>Synced 5 W&B file(s), 0 media file(s), 0 artifact file(s) and 0 other file(s)"
      ],
      "text/plain": [
       "<IPython.core.display.HTML object>"
      ]
     },
     "metadata": {},
     "output_type": "display_data"
    },
    {
     "data": {
      "text/html": [
       "Find logs at: <code>./wandb/run-20240912_142710-vz45mzy6/logs</code>"
      ],
      "text/plain": [
       "<IPython.core.display.HTML object>"
      ]
     },
     "metadata": {},
     "output_type": "display_data"
    },
    {
     "data": {
      "text/html": [
       "wandb version 0.18.0 is available!  To upgrade, please run:\n",
       " $ pip install wandb --upgrade"
      ],
      "text/plain": [
       "<IPython.core.display.HTML object>"
      ]
     },
     "metadata": {},
     "output_type": "display_data"
    },
    {
     "data": {
      "text/html": [
       "The new W&B backend becomes opt-out in version 0.18.0; try it out with `wandb.require(\"core\")`! See https://wandb.me/wandb-core for more information."
      ],
      "text/plain": [
       "<IPython.core.display.HTML object>"
      ]
     },
     "metadata": {},
     "output_type": "display_data"
    },
    {
     "name": "stdout",
     "output_type": "stream",
     "text": [
      "Running test for condition: (offset == 0) and (pitch_shift == 0) and (time_stretch == 1.0)\n",
      "Running test for condition: (offset != 0) and (pitch_shift == 0) and (time_stretch == 1.0)\n",
      "Running test for condition: (offset == 0) and (pitch_shift != 0) and (time_stretch == 1.0)\n",
      "Running test for condition: (offset == 0) and (pitch_shift == 0) and (time_stretch != 1.0)\n",
      "Running test for condition: (offset == 0) and (pitch_shift != 0) and (time_stretch != 1.0)\n",
      "Running test for condition: (offset != 0) and (pitch_shift != 0) and (time_stretch != 1.0)\n",
      "mrr 0.18333333333333332 rr 0.18333333333333332\n"
     ]
    },
    {
     "data": {
      "text/html": [
       "Tracking run with wandb version 0.17.9"
      ],
      "text/plain": [
       "<IPython.core.display.HTML object>"
      ]
     },
     "metadata": {},
     "output_type": "display_data"
    },
    {
     "data": {
      "text/html": [
       "Run data is saved locally in <code>/home/angeline/ml-in-production-getting-started/module-3/experiments/wandb/run-20240912_142831-q4ygjkyv</code>"
      ],
      "text/plain": [
       "<IPython.core.display.HTML object>"
      ]
     },
     "metadata": {},
     "output_type": "display_data"
    },
    {
     "data": {
      "text/html": [
       "Syncing run <strong><a href='https://wandb.ai/angeliney-georgian/children-song-dataset-retrieval/runs/q4ygjkyv' target=\"_blank\">avid-galaxy-22</a></strong> to <a href='https://wandb.ai/angeliney-georgian/children-song-dataset-retrieval' target=\"_blank\">Weights & Biases</a> (<a href='https://wandb.me/run' target=\"_blank\">docs</a>)<br/>"
      ],
      "text/plain": [
       "<IPython.core.display.HTML object>"
      ]
     },
     "metadata": {},
     "output_type": "display_data"
    },
    {
     "data": {
      "text/html": [
       " View project at <a href='https://wandb.ai/angeliney-georgian/children-song-dataset-retrieval' target=\"_blank\">https://wandb.ai/angeliney-georgian/children-song-dataset-retrieval</a>"
      ],
      "text/plain": [
       "<IPython.core.display.HTML object>"
      ]
     },
     "metadata": {},
     "output_type": "display_data"
    },
    {
     "data": {
      "text/html": [
       " View run at <a href='https://wandb.ai/angeliney-georgian/children-song-dataset-retrieval/runs/q4ygjkyv' target=\"_blank\">https://wandb.ai/angeliney-georgian/children-song-dataset-retrieval/runs/q4ygjkyv</a>"
      ],
      "text/plain": [
       "<IPython.core.display.HTML object>"
      ]
     },
     "metadata": {},
     "output_type": "display_data"
    },
    {
     "data": {
      "text/html": [
       "<style>\n",
       "    table.wandb td:nth-child(1) { padding: 0 10px; text-align: left ; width: auto;} td:nth-child(2) {text-align: left ; width: 100%}\n",
       "    .wandb-row { display: flex; flex-direction: row; flex-wrap: wrap; justify-content: flex-start; width: 100% }\n",
       "    .wandb-col { display: flex; flex-direction: column; flex-basis: 100%; flex: 1; padding: 10px; }\n",
       "    </style>\n",
       "<div class=\"wandb-row\"><div class=\"wandb-col\"><h3>Run history:</h3><br/><table class=\"wandb\"><tr><td>mrr</td><td>▁</td></tr><tr><td>retrieval_recall</td><td>▁</td></tr></table><br/></div><div class=\"wandb-col\"><h3>Run summary:</h3><br/><table class=\"wandb\"><tr><td>mrr</td><td>0.18333</td></tr><tr><td>retrieval_recall</td><td>0.18333</td></tr></table><br/></div></div>"
      ],
      "text/plain": [
       "<IPython.core.display.HTML object>"
      ]
     },
     "metadata": {},
     "output_type": "display_data"
    },
    {
     "data": {
      "text/html": [
       " View run <strong style=\"color:#cdcd00\">avid-galaxy-22</strong> at: <a href='https://wandb.ai/angeliney-georgian/children-song-dataset-retrieval/runs/q4ygjkyv' target=\"_blank\">https://wandb.ai/angeliney-georgian/children-song-dataset-retrieval/runs/q4ygjkyv</a><br/> View project at: <a href='https://wandb.ai/angeliney-georgian/children-song-dataset-retrieval' target=\"_blank\">https://wandb.ai/angeliney-georgian/children-song-dataset-retrieval</a><br/>Synced 5 W&B file(s), 0 media file(s), 0 artifact file(s) and 0 other file(s)"
      ],
      "text/plain": [
       "<IPython.core.display.HTML object>"
      ]
     },
     "metadata": {},
     "output_type": "display_data"
    },
    {
     "data": {
      "text/html": [
       "Find logs at: <code>./wandb/run-20240912_142831-q4ygjkyv/logs</code>"
      ],
      "text/plain": [
       "<IPython.core.display.HTML object>"
      ]
     },
     "metadata": {},
     "output_type": "display_data"
    },
    {
     "data": {
      "text/html": [
       "wandb version 0.18.0 is available!  To upgrade, please run:\n",
       " $ pip install wandb --upgrade"
      ],
      "text/plain": [
       "<IPython.core.display.HTML object>"
      ]
     },
     "metadata": {},
     "output_type": "display_data"
    },
    {
     "data": {
      "text/html": [
       "The new W&B backend becomes opt-out in version 0.18.0; try it out with `wandb.require(\"core\")`! See https://wandb.me/wandb-core for more information."
      ],
      "text/plain": [
       "<IPython.core.display.HTML object>"
      ]
     },
     "metadata": {},
     "output_type": "display_data"
    },
    {
     "name": "stdout",
     "output_type": "stream",
     "text": [
      "Running test for condition: (offset == 0) and (pitch_shift == 0) and (time_stretch == 1.0)\n",
      "Running test for condition: (offset != 0) and (pitch_shift == 0) and (time_stretch == 1.0)\n",
      "Running test for condition: (offset == 0) and (pitch_shift != 0) and (time_stretch == 1.0)\n",
      "Running test for condition: (offset == 0) and (pitch_shift == 0) and (time_stretch != 1.0)\n",
      "Running test for condition: (offset == 0) and (pitch_shift != 0) and (time_stretch != 1.0)\n",
      "Running test for condition: (offset != 0) and (pitch_shift != 0) and (time_stretch != 1.0)\n",
      "mrr 0.016666666666666666 rr 0.016666666666666666\n"
     ]
    },
    {
     "data": {
      "text/html": [
       "Tracking run with wandb version 0.17.9"
      ],
      "text/plain": [
       "<IPython.core.display.HTML object>"
      ]
     },
     "metadata": {},
     "output_type": "display_data"
    },
    {
     "data": {
      "text/html": [
       "Run data is saved locally in <code>/home/angeline/ml-in-production-getting-started/module-3/experiments/wandb/run-20240912_143038-g3i33y7a</code>"
      ],
      "text/plain": [
       "<IPython.core.display.HTML object>"
      ]
     },
     "metadata": {},
     "output_type": "display_data"
    },
    {
     "data": {
      "text/html": [
       "Syncing run <strong><a href='https://wandb.ai/angeliney-georgian/children-song-dataset-retrieval/runs/g3i33y7a' target=\"_blank\">blooming-eon-23</a></strong> to <a href='https://wandb.ai/angeliney-georgian/children-song-dataset-retrieval' target=\"_blank\">Weights & Biases</a> (<a href='https://wandb.me/run' target=\"_blank\">docs</a>)<br/>"
      ],
      "text/plain": [
       "<IPython.core.display.HTML object>"
      ]
     },
     "metadata": {},
     "output_type": "display_data"
    },
    {
     "data": {
      "text/html": [
       " View project at <a href='https://wandb.ai/angeliney-georgian/children-song-dataset-retrieval' target=\"_blank\">https://wandb.ai/angeliney-georgian/children-song-dataset-retrieval</a>"
      ],
      "text/plain": [
       "<IPython.core.display.HTML object>"
      ]
     },
     "metadata": {},
     "output_type": "display_data"
    },
    {
     "data": {
      "text/html": [
       " View run at <a href='https://wandb.ai/angeliney-georgian/children-song-dataset-retrieval/runs/g3i33y7a' target=\"_blank\">https://wandb.ai/angeliney-georgian/children-song-dataset-retrieval/runs/g3i33y7a</a>"
      ],
      "text/plain": [
       "<IPython.core.display.HTML object>"
      ]
     },
     "metadata": {},
     "output_type": "display_data"
    },
    {
     "data": {
      "text/html": [
       "<style>\n",
       "    table.wandb td:nth-child(1) { padding: 0 10px; text-align: left ; width: auto;} td:nth-child(2) {text-align: left ; width: 100%}\n",
       "    .wandb-row { display: flex; flex-direction: row; flex-wrap: wrap; justify-content: flex-start; width: 100% }\n",
       "    .wandb-col { display: flex; flex-direction: column; flex-basis: 100%; flex: 1; padding: 10px; }\n",
       "    </style>\n",
       "<div class=\"wandb-row\"><div class=\"wandb-col\"><h3>Run history:</h3><br/><table class=\"wandb\"><tr><td>mrr</td><td>▁</td></tr><tr><td>retrieval_recall</td><td>▁</td></tr></table><br/></div><div class=\"wandb-col\"><h3>Run summary:</h3><br/><table class=\"wandb\"><tr><td>mrr</td><td>0.01667</td></tr><tr><td>retrieval_recall</td><td>0.01667</td></tr></table><br/></div></div>"
      ],
      "text/plain": [
       "<IPython.core.display.HTML object>"
      ]
     },
     "metadata": {},
     "output_type": "display_data"
    },
    {
     "data": {
      "text/html": [
       " View run <strong style=\"color:#cdcd00\">blooming-eon-23</strong> at: <a href='https://wandb.ai/angeliney-georgian/children-song-dataset-retrieval/runs/g3i33y7a' target=\"_blank\">https://wandb.ai/angeliney-georgian/children-song-dataset-retrieval/runs/g3i33y7a</a><br/> View project at: <a href='https://wandb.ai/angeliney-georgian/children-song-dataset-retrieval' target=\"_blank\">https://wandb.ai/angeliney-georgian/children-song-dataset-retrieval</a><br/>Synced 5 W&B file(s), 0 media file(s), 0 artifact file(s) and 0 other file(s)"
      ],
      "text/plain": [
       "<IPython.core.display.HTML object>"
      ]
     },
     "metadata": {},
     "output_type": "display_data"
    },
    {
     "data": {
      "text/html": [
       "Find logs at: <code>./wandb/run-20240912_143038-g3i33y7a/logs</code>"
      ],
      "text/plain": [
       "<IPython.core.display.HTML object>"
      ]
     },
     "metadata": {},
     "output_type": "display_data"
    },
    {
     "data": {
      "text/html": [
       "wandb version 0.18.0 is available!  To upgrade, please run:\n",
       " $ pip install wandb --upgrade"
      ],
      "text/plain": [
       "<IPython.core.display.HTML object>"
      ]
     },
     "metadata": {},
     "output_type": "display_data"
    },
    {
     "data": {
      "text/html": [
       "The new W&B backend becomes opt-out in version 0.18.0; try it out with `wandb.require(\"core\")`! See https://wandb.me/wandb-core for more information."
      ],
      "text/plain": [
       "<IPython.core.display.HTML object>"
      ]
     },
     "metadata": {},
     "output_type": "display_data"
    },
    {
     "name": "stdout",
     "output_type": "stream",
     "text": [
      "Running test for condition: (offset == 0) and (pitch_shift == 0) and (time_stretch == 1.0)\n",
      "Running test for condition: (offset != 0) and (pitch_shift == 0) and (time_stretch == 1.0)\n",
      "Running test for condition: (offset == 0) and (pitch_shift != 0) and (time_stretch == 1.0)\n",
      "Running test for condition: (offset == 0) and (pitch_shift == 0) and (time_stretch != 1.0)\n",
      "Running test for condition: (offset == 0) and (pitch_shift != 0) and (time_stretch != 1.0)\n",
      "Running test for condition: (offset != 0) and (pitch_shift != 0) and (time_stretch != 1.0)\n",
      "mrr 0.19166666666666668 rr 0.2\n"
     ]
    },
    {
     "data": {
      "text/html": [
       "Tracking run with wandb version 0.17.9"
      ],
      "text/plain": [
       "<IPython.core.display.HTML object>"
      ]
     },
     "metadata": {},
     "output_type": "display_data"
    },
    {
     "data": {
      "text/html": [
       "Run data is saved locally in <code>/home/angeline/ml-in-production-getting-started/module-3/experiments/wandb/run-20240912_143222-gwk8gbp1</code>"
      ],
      "text/plain": [
       "<IPython.core.display.HTML object>"
      ]
     },
     "metadata": {},
     "output_type": "display_data"
    },
    {
     "data": {
      "text/html": [
       "Syncing run <strong><a href='https://wandb.ai/angeliney-georgian/children-song-dataset-retrieval/runs/gwk8gbp1' target=\"_blank\">treasured-wood-24</a></strong> to <a href='https://wandb.ai/angeliney-georgian/children-song-dataset-retrieval' target=\"_blank\">Weights & Biases</a> (<a href='https://wandb.me/run' target=\"_blank\">docs</a>)<br/>"
      ],
      "text/plain": [
       "<IPython.core.display.HTML object>"
      ]
     },
     "metadata": {},
     "output_type": "display_data"
    },
    {
     "data": {
      "text/html": [
       " View project at <a href='https://wandb.ai/angeliney-georgian/children-song-dataset-retrieval' target=\"_blank\">https://wandb.ai/angeliney-georgian/children-song-dataset-retrieval</a>"
      ],
      "text/plain": [
       "<IPython.core.display.HTML object>"
      ]
     },
     "metadata": {},
     "output_type": "display_data"
    },
    {
     "data": {
      "text/html": [
       " View run at <a href='https://wandb.ai/angeliney-georgian/children-song-dataset-retrieval/runs/gwk8gbp1' target=\"_blank\">https://wandb.ai/angeliney-georgian/children-song-dataset-retrieval/runs/gwk8gbp1</a>"
      ],
      "text/plain": [
       "<IPython.core.display.HTML object>"
      ]
     },
     "metadata": {},
     "output_type": "display_data"
    },
    {
     "data": {
      "text/html": [
       "<style>\n",
       "    table.wandb td:nth-child(1) { padding: 0 10px; text-align: left ; width: auto;} td:nth-child(2) {text-align: left ; width: 100%}\n",
       "    .wandb-row { display: flex; flex-direction: row; flex-wrap: wrap; justify-content: flex-start; width: 100% }\n",
       "    .wandb-col { display: flex; flex-direction: column; flex-basis: 100%; flex: 1; padding: 10px; }\n",
       "    </style>\n",
       "<div class=\"wandb-row\"><div class=\"wandb-col\"><h3>Run history:</h3><br/><table class=\"wandb\"><tr><td>mrr</td><td>▁</td></tr><tr><td>retrieval_recall</td><td>▁</td></tr></table><br/></div><div class=\"wandb-col\"><h3>Run summary:</h3><br/><table class=\"wandb\"><tr><td>mrr</td><td>0.19167</td></tr><tr><td>retrieval_recall</td><td>0.2</td></tr></table><br/></div></div>"
      ],
      "text/plain": [
       "<IPython.core.display.HTML object>"
      ]
     },
     "metadata": {},
     "output_type": "display_data"
    },
    {
     "data": {
      "text/html": [
       " View run <strong style=\"color:#cdcd00\">treasured-wood-24</strong> at: <a href='https://wandb.ai/angeliney-georgian/children-song-dataset-retrieval/runs/gwk8gbp1' target=\"_blank\">https://wandb.ai/angeliney-georgian/children-song-dataset-retrieval/runs/gwk8gbp1</a><br/> View project at: <a href='https://wandb.ai/angeliney-georgian/children-song-dataset-retrieval' target=\"_blank\">https://wandb.ai/angeliney-georgian/children-song-dataset-retrieval</a><br/>Synced 5 W&B file(s), 0 media file(s), 0 artifact file(s) and 0 other file(s)"
      ],
      "text/plain": [
       "<IPython.core.display.HTML object>"
      ]
     },
     "metadata": {},
     "output_type": "display_data"
    },
    {
     "data": {
      "text/html": [
       "Find logs at: <code>./wandb/run-20240912_143222-gwk8gbp1/logs</code>"
      ],
      "text/plain": [
       "<IPython.core.display.HTML object>"
      ]
     },
     "metadata": {},
     "output_type": "display_data"
    },
    {
     "data": {
      "text/html": [
       "wandb version 0.18.0 is available!  To upgrade, please run:\n",
       " $ pip install wandb --upgrade"
      ],
      "text/plain": [
       "<IPython.core.display.HTML object>"
      ]
     },
     "metadata": {},
     "output_type": "display_data"
    },
    {
     "data": {
      "text/html": [
       "The new W&B backend becomes opt-out in version 0.18.0; try it out with `wandb.require(\"core\")`! See https://wandb.me/wandb-core for more information."
      ],
      "text/plain": [
       "<IPython.core.display.HTML object>"
      ]
     },
     "metadata": {},
     "output_type": "display_data"
    },
    {
     "name": "stdout",
     "output_type": "stream",
     "text": [
      "Running test for condition: (offset == 0) and (pitch_shift == 0) and (time_stretch == 1.0)\n",
      "Running test for condition: (offset != 0) and (pitch_shift == 0) and (time_stretch == 1.0)\n",
      "Running test for condition: (offset == 0) and (pitch_shift != 0) and (time_stretch == 1.0)\n",
      "Running test for condition: (offset == 0) and (pitch_shift == 0) and (time_stretch != 1.0)\n",
      "Running test for condition: (offset == 0) and (pitch_shift != 0) and (time_stretch != 1.0)\n",
      "Running test for condition: (offset != 0) and (pitch_shift != 0) and (time_stretch != 1.0)\n",
      "mrr 0.21666666666666667 rr 0.23333333333333334\n"
     ]
    },
    {
     "data": {
      "text/html": [
       "Tracking run with wandb version 0.17.9"
      ],
      "text/plain": [
       "<IPython.core.display.HTML object>"
      ]
     },
     "metadata": {},
     "output_type": "display_data"
    },
    {
     "data": {
      "text/html": [
       "Run data is saved locally in <code>/home/angeline/ml-in-production-getting-started/module-3/experiments/wandb/run-20240912_143352-l82t33bm</code>"
      ],
      "text/plain": [
       "<IPython.core.display.HTML object>"
      ]
     },
     "metadata": {},
     "output_type": "display_data"
    },
    {
     "data": {
      "text/html": [
       "Syncing run <strong><a href='https://wandb.ai/angeliney-georgian/children-song-dataset-retrieval/runs/l82t33bm' target=\"_blank\">serene-lion-25</a></strong> to <a href='https://wandb.ai/angeliney-georgian/children-song-dataset-retrieval' target=\"_blank\">Weights & Biases</a> (<a href='https://wandb.me/run' target=\"_blank\">docs</a>)<br/>"
      ],
      "text/plain": [
       "<IPython.core.display.HTML object>"
      ]
     },
     "metadata": {},
     "output_type": "display_data"
    },
    {
     "data": {
      "text/html": [
       " View project at <a href='https://wandb.ai/angeliney-georgian/children-song-dataset-retrieval' target=\"_blank\">https://wandb.ai/angeliney-georgian/children-song-dataset-retrieval</a>"
      ],
      "text/plain": [
       "<IPython.core.display.HTML object>"
      ]
     },
     "metadata": {},
     "output_type": "display_data"
    },
    {
     "data": {
      "text/html": [
       " View run at <a href='https://wandb.ai/angeliney-georgian/children-song-dataset-retrieval/runs/l82t33bm' target=\"_blank\">https://wandb.ai/angeliney-georgian/children-song-dataset-retrieval/runs/l82t33bm</a>"
      ],
      "text/plain": [
       "<IPython.core.display.HTML object>"
      ]
     },
     "metadata": {},
     "output_type": "display_data"
    },
    {
     "data": {
      "text/html": [
       "<style>\n",
       "    table.wandb td:nth-child(1) { padding: 0 10px; text-align: left ; width: auto;} td:nth-child(2) {text-align: left ; width: 100%}\n",
       "    .wandb-row { display: flex; flex-direction: row; flex-wrap: wrap; justify-content: flex-start; width: 100% }\n",
       "    .wandb-col { display: flex; flex-direction: column; flex-basis: 100%; flex: 1; padding: 10px; }\n",
       "    </style>\n",
       "<div class=\"wandb-row\"><div class=\"wandb-col\"><h3>Run history:</h3><br/><table class=\"wandb\"><tr><td>mrr</td><td>▁</td></tr><tr><td>retrieval_recall</td><td>▁</td></tr></table><br/></div><div class=\"wandb-col\"><h3>Run summary:</h3><br/><table class=\"wandb\"><tr><td>mrr</td><td>0.21667</td></tr><tr><td>retrieval_recall</td><td>0.23333</td></tr></table><br/></div></div>"
      ],
      "text/plain": [
       "<IPython.core.display.HTML object>"
      ]
     },
     "metadata": {},
     "output_type": "display_data"
    },
    {
     "data": {
      "text/html": [
       " View run <strong style=\"color:#cdcd00\">serene-lion-25</strong> at: <a href='https://wandb.ai/angeliney-georgian/children-song-dataset-retrieval/runs/l82t33bm' target=\"_blank\">https://wandb.ai/angeliney-georgian/children-song-dataset-retrieval/runs/l82t33bm</a><br/> View project at: <a href='https://wandb.ai/angeliney-georgian/children-song-dataset-retrieval' target=\"_blank\">https://wandb.ai/angeliney-georgian/children-song-dataset-retrieval</a><br/>Synced 5 W&B file(s), 0 media file(s), 0 artifact file(s) and 0 other file(s)"
      ],
      "text/plain": [
       "<IPython.core.display.HTML object>"
      ]
     },
     "metadata": {},
     "output_type": "display_data"
    },
    {
     "data": {
      "text/html": [
       "Find logs at: <code>./wandb/run-20240912_143352-l82t33bm/logs</code>"
      ],
      "text/plain": [
       "<IPython.core.display.HTML object>"
      ]
     },
     "metadata": {},
     "output_type": "display_data"
    },
    {
     "data": {
      "text/html": [
       "wandb version 0.18.0 is available!  To upgrade, please run:\n",
       " $ pip install wandb --upgrade"
      ],
      "text/plain": [
       "<IPython.core.display.HTML object>"
      ]
     },
     "metadata": {},
     "output_type": "display_data"
    },
    {
     "data": {
      "text/html": [
       "The new W&B backend becomes opt-out in version 0.18.0; try it out with `wandb.require(\"core\")`! See https://wandb.me/wandb-core for more information."
      ],
      "text/plain": [
       "<IPython.core.display.HTML object>"
      ]
     },
     "metadata": {},
     "output_type": "display_data"
    },
    {
     "name": "stdout",
     "output_type": "stream",
     "text": [
      "Running test for condition: (offset == 0) and (pitch_shift == 0) and (time_stretch == 1.0)\n",
      "Running test for condition: (offset != 0) and (pitch_shift == 0) and (time_stretch == 1.0)\n",
      "Running test for condition: (offset == 0) and (pitch_shift != 0) and (time_stretch == 1.0)\n",
      "Running test for condition: (offset == 0) and (pitch_shift == 0) and (time_stretch != 1.0)\n",
      "Running test for condition: (offset == 0) and (pitch_shift != 0) and (time_stretch != 1.0)\n",
      "Running test for condition: (offset != 0) and (pitch_shift != 0) and (time_stretch != 1.0)\n",
      "mrr 0.15 rr 0.15\n"
     ]
    },
    {
     "data": {
      "text/html": [
       "Tracking run with wandb version 0.17.9"
      ],
      "text/plain": [
       "<IPython.core.display.HTML object>"
      ]
     },
     "metadata": {},
     "output_type": "display_data"
    },
    {
     "data": {
      "text/html": [
       "Run data is saved locally in <code>/home/angeline/ml-in-production-getting-started/module-3/experiments/wandb/run-20240912_143516-dwqapzme</code>"
      ],
      "text/plain": [
       "<IPython.core.display.HTML object>"
      ]
     },
     "metadata": {},
     "output_type": "display_data"
    },
    {
     "data": {
      "text/html": [
       "Syncing run <strong><a href='https://wandb.ai/angeliney-georgian/children-song-dataset-retrieval/runs/dwqapzme' target=\"_blank\">rich-puddle-26</a></strong> to <a href='https://wandb.ai/angeliney-georgian/children-song-dataset-retrieval' target=\"_blank\">Weights & Biases</a> (<a href='https://wandb.me/run' target=\"_blank\">docs</a>)<br/>"
      ],
      "text/plain": [
       "<IPython.core.display.HTML object>"
      ]
     },
     "metadata": {},
     "output_type": "display_data"
    },
    {
     "data": {
      "text/html": [
       " View project at <a href='https://wandb.ai/angeliney-georgian/children-song-dataset-retrieval' target=\"_blank\">https://wandb.ai/angeliney-georgian/children-song-dataset-retrieval</a>"
      ],
      "text/plain": [
       "<IPython.core.display.HTML object>"
      ]
     },
     "metadata": {},
     "output_type": "display_data"
    },
    {
     "data": {
      "text/html": [
       " View run at <a href='https://wandb.ai/angeliney-georgian/children-song-dataset-retrieval/runs/dwqapzme' target=\"_blank\">https://wandb.ai/angeliney-georgian/children-song-dataset-retrieval/runs/dwqapzme</a>"
      ],
      "text/plain": [
       "<IPython.core.display.HTML object>"
      ]
     },
     "metadata": {},
     "output_type": "display_data"
    },
    {
     "data": {
      "text/html": [
       "<style>\n",
       "    table.wandb td:nth-child(1) { padding: 0 10px; text-align: left ; width: auto;} td:nth-child(2) {text-align: left ; width: 100%}\n",
       "    .wandb-row { display: flex; flex-direction: row; flex-wrap: wrap; justify-content: flex-start; width: 100% }\n",
       "    .wandb-col { display: flex; flex-direction: column; flex-basis: 100%; flex: 1; padding: 10px; }\n",
       "    </style>\n",
       "<div class=\"wandb-row\"><div class=\"wandb-col\"><h3>Run history:</h3><br/><table class=\"wandb\"><tr><td>mrr</td><td>▁</td></tr><tr><td>retrieval_recall</td><td>▁</td></tr></table><br/></div><div class=\"wandb-col\"><h3>Run summary:</h3><br/><table class=\"wandb\"><tr><td>mrr</td><td>0.15</td></tr><tr><td>retrieval_recall</td><td>0.15</td></tr></table><br/></div></div>"
      ],
      "text/plain": [
       "<IPython.core.display.HTML object>"
      ]
     },
     "metadata": {},
     "output_type": "display_data"
    },
    {
     "data": {
      "text/html": [
       " View run <strong style=\"color:#cdcd00\">rich-puddle-26</strong> at: <a href='https://wandb.ai/angeliney-georgian/children-song-dataset-retrieval/runs/dwqapzme' target=\"_blank\">https://wandb.ai/angeliney-georgian/children-song-dataset-retrieval/runs/dwqapzme</a><br/> View project at: <a href='https://wandb.ai/angeliney-georgian/children-song-dataset-retrieval' target=\"_blank\">https://wandb.ai/angeliney-georgian/children-song-dataset-retrieval</a><br/>Synced 5 W&B file(s), 0 media file(s), 0 artifact file(s) and 0 other file(s)"
      ],
      "text/plain": [
       "<IPython.core.display.HTML object>"
      ]
     },
     "metadata": {},
     "output_type": "display_data"
    },
    {
     "data": {
      "text/html": [
       "Find logs at: <code>./wandb/run-20240912_143516-dwqapzme/logs</code>"
      ],
      "text/plain": [
       "<IPython.core.display.HTML object>"
      ]
     },
     "metadata": {},
     "output_type": "display_data"
    },
    {
     "data": {
      "text/html": [
       "wandb version 0.18.0 is available!  To upgrade, please run:\n",
       " $ pip install wandb --upgrade"
      ],
      "text/plain": [
       "<IPython.core.display.HTML object>"
      ]
     },
     "metadata": {},
     "output_type": "display_data"
    },
    {
     "data": {
      "text/html": [
       "The new W&B backend becomes opt-out in version 0.18.0; try it out with `wandb.require(\"core\")`! See https://wandb.me/wandb-core for more information."
      ],
      "text/plain": [
       "<IPython.core.display.HTML object>"
      ]
     },
     "metadata": {},
     "output_type": "display_data"
    }
   ],
   "source": [
    "for search_metric in [\"l2\", \"cosine\", \"dot\"]:\n",
    "    test_and_log(\n",
    "        lambda x: search(x, wav2vec2_hidden_state_tbl, search_metric),\n",
    "        lambda audio: embed_with_model(audio, processor, model, output_field=\"last_hidden_state\").numpy().flatten(),\n",
    "        search_metric,\n",
    "        \"audio_feat_wav2vec2_last_hidden_state\"\n",
    "    )\n",
    "\n",
    "    test_and_log(\n",
    "        lambda x: search(x, wav2vec2_extract_feat_tbl, search_metric),\n",
    "        lambda audio: embed_with_model(audio, processor, model, output_field=\"extract_features\").numpy().flatten(),\n",
    "        search_metric,\n",
    "        \"audio_feat_wav2vec2_extract_features\"\n",
    "    )"
   ]
  },
  {
   "cell_type": "code",
   "execution_count": 17,
   "metadata": {},
   "outputs": [
    {
     "name": "stderr",
     "output_type": "stream",
     "text": [
      "/home/angeline/miniconda3/envs/mlops-training/lib/python3.12/site-packages/transformers/tokenization_utils_base.py:1601: FutureWarning: `clean_up_tokenization_spaces` was not set. It will be set to `True` by default. This behavior will be depracted in transformers v4.45, and will be then set to `False` by default. For more details check this issue: https://github.com/huggingface/transformers/issues/31884\n",
      "  warnings.warn(\n",
      "Some weights of HubertModel were not initialized from the model checkpoint at facebook/hubert-large-ls960-ft and are newly initialized: ['hubert.encoder.pos_conv_embed.conv.parametrizations.weight.original0', 'hubert.encoder.pos_conv_embed.conv.parametrizations.weight.original1']\n",
      "You should probably TRAIN this model on a down-stream task to be able to use it for predictions and inference.\n"
     ]
    }
   ],
   "source": [
    "from transformers import AutoProcessor, AutoModel\n",
    "\n",
    "# Load the pretrained Wav2Vec2 model and processor\n",
    "model_name = \"facebook/hubert-large-ls960-ft\"\n",
    "processor = AutoProcessor.from_pretrained(model_name)\n",
    "model = AutoModel.from_pretrained(model_name)\n",
    "\n",
    "out = embed_with_model(audio, processor, model)"
   ]
  },
  {
   "cell_type": "code",
   "execution_count": 18,
   "metadata": {},
   "outputs": [
    {
     "data": {
      "text/plain": [
       "BaseModelOutput(last_hidden_state=tensor([[[ 0.0286,  0.4783,  0.3566,  ...,  0.0384, -0.1241, -0.0626],\n",
       "         [ 0.0280,  0.4963,  0.4230,  ...,  0.0139, -0.1003,  0.0727],\n",
       "         [ 0.0387,  0.7239,  0.3847,  ...,  0.0613, -0.1662, -0.0239],\n",
       "         ...,\n",
       "         [ 0.2749,  0.0290,  0.2642,  ..., -0.0689, -0.2864,  0.0280],\n",
       "         [ 0.1355,  0.2981,  0.3246,  ...,  0.3942, -0.4068,  0.1216],\n",
       "         [-0.0655,  0.3900,  0.3681,  ...,  0.1234, -0.5148, -0.1127]]]), hidden_states=None, attentions=None)"
      ]
     },
     "execution_count": 18,
     "metadata": {},
     "output_type": "execute_result"
    }
   ],
   "source": [
    "out"
   ]
  },
  {
   "cell_type": "code",
   "execution_count": 28,
   "metadata": {},
   "outputs": [
    {
     "name": "stdout",
     "output_type": "stream",
     "text": [
      "0\n",
      "158\n",
      "316\n",
      "474\n",
      "632\n"
     ]
    }
   ],
   "source": [
    "embed_lookup_data(\n",
    "    lambda audio: embed_with_model(audio, processor, model, output_field=\"last_hidden_state\").numpy().flatten(),\n",
    "    audio_df,\n",
    "    \"audio_feat_hubert_large_last_hidden_state\"\n",
    ")"
   ]
  },
  {
   "cell_type": "code",
   "execution_count": 8,
   "metadata": {},
   "outputs": [],
   "source": [
    "hubert_large_hidden_state_tbl = db.open_table(\"audio_feat_hubert_large_last_hidden_state\")\n"
   ]
  },
  {
   "cell_type": "code",
   "execution_count": 11,
   "metadata": {},
   "outputs": [
    {
     "name": "stdout",
     "output_type": "stream",
     "text": [
      "l2\n",
      "Running test for condition: (offset == 0) and (pitch_shift == 0) and (time_stretch == 1.0)\n",
      "Running test for condition: (offset != 0) and (pitch_shift == 0) and (time_stretch == 1.0)\n",
      "Running test for condition: (offset == 0) and (pitch_shift != 0) and (time_stretch == 1.0)\n",
      "Running test for condition: (offset == 0) and (pitch_shift == 0) and (time_stretch != 1.0)\n",
      "Running test for condition: (offset == 0) and (pitch_shift != 0) and (time_stretch != 1.0)\n",
      "Running test for condition: (offset != 0) and (pitch_shift != 0) and (time_stretch != 1.0)\n",
      "mrr 0.14166666666666666 rr 0.15\n"
     ]
    },
    {
     "data": {
      "text/html": [
       "Tracking run with wandb version 0.17.9"
      ],
      "text/plain": [
       "<IPython.core.display.HTML object>"
      ]
     },
     "metadata": {},
     "output_type": "display_data"
    },
    {
     "data": {
      "text/html": [
       "Run data is saved locally in <code>/home/angeline/ml-in-production-getting-started/module-3/experiments/wandb/run-20240913_130102-6c41d4cy</code>"
      ],
      "text/plain": [
       "<IPython.core.display.HTML object>"
      ]
     },
     "metadata": {},
     "output_type": "display_data"
    },
    {
     "data": {
      "text/html": [
       "Syncing run <strong><a href='https://wandb.ai/angeliney-georgian/children-song-dataset-retrieval/runs/6c41d4cy' target=\"_blank\">blooming-pine-27</a></strong> to <a href='https://wandb.ai/angeliney-georgian/children-song-dataset-retrieval' target=\"_blank\">Weights & Biases</a> (<a href='https://wandb.me/run' target=\"_blank\">docs</a>)<br/>"
      ],
      "text/plain": [
       "<IPython.core.display.HTML object>"
      ]
     },
     "metadata": {},
     "output_type": "display_data"
    },
    {
     "data": {
      "text/html": [
       " View project at <a href='https://wandb.ai/angeliney-georgian/children-song-dataset-retrieval' target=\"_blank\">https://wandb.ai/angeliney-georgian/children-song-dataset-retrieval</a>"
      ],
      "text/plain": [
       "<IPython.core.display.HTML object>"
      ]
     },
     "metadata": {},
     "output_type": "display_data"
    },
    {
     "data": {
      "text/html": [
       " View run at <a href='https://wandb.ai/angeliney-georgian/children-song-dataset-retrieval/runs/6c41d4cy' target=\"_blank\">https://wandb.ai/angeliney-georgian/children-song-dataset-retrieval/runs/6c41d4cy</a>"
      ],
      "text/plain": [
       "<IPython.core.display.HTML object>"
      ]
     },
     "metadata": {},
     "output_type": "display_data"
    },
    {
     "data": {
      "text/html": [
       "<style>\n",
       "    table.wandb td:nth-child(1) { padding: 0 10px; text-align: left ; width: auto;} td:nth-child(2) {text-align: left ; width: 100%}\n",
       "    .wandb-row { display: flex; flex-direction: row; flex-wrap: wrap; justify-content: flex-start; width: 100% }\n",
       "    .wandb-col { display: flex; flex-direction: column; flex-basis: 100%; flex: 1; padding: 10px; }\n",
       "    </style>\n",
       "<div class=\"wandb-row\"><div class=\"wandb-col\"><h3>Run history:</h3><br/><table class=\"wandb\"><tr><td>mrr</td><td>▁</td></tr><tr><td>retrieval_recall</td><td>▁</td></tr></table><br/></div><div class=\"wandb-col\"><h3>Run summary:</h3><br/><table class=\"wandb\"><tr><td>mrr</td><td>0.14167</td></tr><tr><td>retrieval_recall</td><td>0.15</td></tr></table><br/></div></div>"
      ],
      "text/plain": [
       "<IPython.core.display.HTML object>"
      ]
     },
     "metadata": {},
     "output_type": "display_data"
    },
    {
     "data": {
      "text/html": [
       " View run <strong style=\"color:#cdcd00\">blooming-pine-27</strong> at: <a href='https://wandb.ai/angeliney-georgian/children-song-dataset-retrieval/runs/6c41d4cy' target=\"_blank\">https://wandb.ai/angeliney-georgian/children-song-dataset-retrieval/runs/6c41d4cy</a><br/> View project at: <a href='https://wandb.ai/angeliney-georgian/children-song-dataset-retrieval' target=\"_blank\">https://wandb.ai/angeliney-georgian/children-song-dataset-retrieval</a><br/>Synced 5 W&B file(s), 0 media file(s), 0 artifact file(s) and 0 other file(s)"
      ],
      "text/plain": [
       "<IPython.core.display.HTML object>"
      ]
     },
     "metadata": {},
     "output_type": "display_data"
    },
    {
     "data": {
      "text/html": [
       "Find logs at: <code>./wandb/run-20240913_130102-6c41d4cy/logs</code>"
      ],
      "text/plain": [
       "<IPython.core.display.HTML object>"
      ]
     },
     "metadata": {},
     "output_type": "display_data"
    },
    {
     "data": {
      "text/html": [
       "wandb version 0.18.0 is available!  To upgrade, please run:\n",
       " $ pip install wandb --upgrade"
      ],
      "text/plain": [
       "<IPython.core.display.HTML object>"
      ]
     },
     "metadata": {},
     "output_type": "display_data"
    },
    {
     "data": {
      "text/html": [
       "The new W&B backend becomes opt-out in version 0.18.0; try it out with `wandb.require(\"core\")`! See https://wandb.me/wandb-core for more information."
      ],
      "text/plain": [
       "<IPython.core.display.HTML object>"
      ]
     },
     "metadata": {},
     "output_type": "display_data"
    },
    {
     "name": "stdout",
     "output_type": "stream",
     "text": [
      "dot\n",
      "Running test for condition: (offset == 0) and (pitch_shift == 0) and (time_stretch == 1.0)\n",
      "Running test for condition: (offset != 0) and (pitch_shift == 0) and (time_stretch == 1.0)\n",
      "Running test for condition: (offset == 0) and (pitch_shift != 0) and (time_stretch == 1.0)\n",
      "Running test for condition: (offset == 0) and (pitch_shift == 0) and (time_stretch != 1.0)\n",
      "Running test for condition: (offset == 0) and (pitch_shift != 0) and (time_stretch != 1.0)\n",
      "Running test for condition: (offset != 0) and (pitch_shift != 0) and (time_stretch != 1.0)\n",
      "mrr 0.11666666666666667 rr 0.11666666666666667\n"
     ]
    },
    {
     "data": {
      "text/html": [
       "Tracking run with wandb version 0.17.9"
      ],
      "text/plain": [
       "<IPython.core.display.HTML object>"
      ]
     },
     "metadata": {},
     "output_type": "display_data"
    },
    {
     "data": {
      "text/html": [
       "Run data is saved locally in <code>/home/angeline/ml-in-production-getting-started/module-3/experiments/wandb/run-20240913_130429-jz92b1e3</code>"
      ],
      "text/plain": [
       "<IPython.core.display.HTML object>"
      ]
     },
     "metadata": {},
     "output_type": "display_data"
    },
    {
     "data": {
      "text/html": [
       "Syncing run <strong><a href='https://wandb.ai/angeliney-georgian/children-song-dataset-retrieval/runs/jz92b1e3' target=\"_blank\">quiet-deluge-28</a></strong> to <a href='https://wandb.ai/angeliney-georgian/children-song-dataset-retrieval' target=\"_blank\">Weights & Biases</a> (<a href='https://wandb.me/run' target=\"_blank\">docs</a>)<br/>"
      ],
      "text/plain": [
       "<IPython.core.display.HTML object>"
      ]
     },
     "metadata": {},
     "output_type": "display_data"
    },
    {
     "data": {
      "text/html": [
       " View project at <a href='https://wandb.ai/angeliney-georgian/children-song-dataset-retrieval' target=\"_blank\">https://wandb.ai/angeliney-georgian/children-song-dataset-retrieval</a>"
      ],
      "text/plain": [
       "<IPython.core.display.HTML object>"
      ]
     },
     "metadata": {},
     "output_type": "display_data"
    },
    {
     "data": {
      "text/html": [
       " View run at <a href='https://wandb.ai/angeliney-georgian/children-song-dataset-retrieval/runs/jz92b1e3' target=\"_blank\">https://wandb.ai/angeliney-georgian/children-song-dataset-retrieval/runs/jz92b1e3</a>"
      ],
      "text/plain": [
       "<IPython.core.display.HTML object>"
      ]
     },
     "metadata": {},
     "output_type": "display_data"
    },
    {
     "data": {
      "text/html": [
       "<style>\n",
       "    table.wandb td:nth-child(1) { padding: 0 10px; text-align: left ; width: auto;} td:nth-child(2) {text-align: left ; width: 100%}\n",
       "    .wandb-row { display: flex; flex-direction: row; flex-wrap: wrap; justify-content: flex-start; width: 100% }\n",
       "    .wandb-col { display: flex; flex-direction: column; flex-basis: 100%; flex: 1; padding: 10px; }\n",
       "    </style>\n",
       "<div class=\"wandb-row\"><div class=\"wandb-col\"><h3>Run history:</h3><br/><table class=\"wandb\"><tr><td>mrr</td><td>▁</td></tr><tr><td>retrieval_recall</td><td>▁</td></tr></table><br/></div><div class=\"wandb-col\"><h3>Run summary:</h3><br/><table class=\"wandb\"><tr><td>mrr</td><td>0.11667</td></tr><tr><td>retrieval_recall</td><td>0.11667</td></tr></table><br/></div></div>"
      ],
      "text/plain": [
       "<IPython.core.display.HTML object>"
      ]
     },
     "metadata": {},
     "output_type": "display_data"
    },
    {
     "data": {
      "text/html": [
       " View run <strong style=\"color:#cdcd00\">quiet-deluge-28</strong> at: <a href='https://wandb.ai/angeliney-georgian/children-song-dataset-retrieval/runs/jz92b1e3' target=\"_blank\">https://wandb.ai/angeliney-georgian/children-song-dataset-retrieval/runs/jz92b1e3</a><br/> View project at: <a href='https://wandb.ai/angeliney-georgian/children-song-dataset-retrieval' target=\"_blank\">https://wandb.ai/angeliney-georgian/children-song-dataset-retrieval</a><br/>Synced 5 W&B file(s), 0 media file(s), 0 artifact file(s) and 0 other file(s)"
      ],
      "text/plain": [
       "<IPython.core.display.HTML object>"
      ]
     },
     "metadata": {},
     "output_type": "display_data"
    },
    {
     "data": {
      "text/html": [
       "Find logs at: <code>./wandb/run-20240913_130429-jz92b1e3/logs</code>"
      ],
      "text/plain": [
       "<IPython.core.display.HTML object>"
      ]
     },
     "metadata": {},
     "output_type": "display_data"
    },
    {
     "data": {
      "text/html": [
       "wandb version 0.18.0 is available!  To upgrade, please run:\n",
       " $ pip install wandb --upgrade"
      ],
      "text/plain": [
       "<IPython.core.display.HTML object>"
      ]
     },
     "metadata": {},
     "output_type": "display_data"
    },
    {
     "data": {
      "text/html": [
       "The new W&B backend becomes opt-out in version 0.18.0; try it out with `wandb.require(\"core\")`! See https://wandb.me/wandb-core for more information."
      ],
      "text/plain": [
       "<IPython.core.display.HTML object>"
      ]
     },
     "metadata": {},
     "output_type": "display_data"
    }
   ],
   "source": [
    "for search_metric in [\"l2\", \"dot\"]:\n",
    "    print(search_metric)\n",
    "    test_and_log(\n",
    "        lambda x: search(x, hubert_large_hidden_state_tbl, search_metric),\n",
    "        lambda audio: embed_with_model(audio, processor, model, output_field=\"last_hidden_state\").numpy().flatten(),\n",
    "        search_metric,\n",
    "        \"audio_feat_hubert_large_last_hidden_state\"\n",
    "    )"
   ]
  },
  {
   "cell_type": "code",
   "execution_count": 8,
   "metadata": {},
   "outputs": [
    {
     "name": "stdout",
     "output_type": "stream",
     "text": [
      "openai/whisper-tiny\n",
      "cosine\n",
      "Running test for condition: (offset == 0) and (pitch_shift == 0) and (time_stretch == 1.0)\n",
      "Running test for condition: (offset != 0) and (pitch_shift == 0) and (time_stretch == 1.0)\n",
      "Running test for condition: (offset == 0) and (pitch_shift != 0) and (time_stretch == 1.0)\n",
      "Running test for condition: (offset == 0) and (pitch_shift == 0) and (time_stretch != 1.0)\n",
      "Running test for condition: (offset == 0) and (pitch_shift != 0) and (time_stretch != 1.0)\n",
      "Running test for condition: (offset != 0) and (pitch_shift != 0) and (time_stretch != 1.0)\n",
      "mrr 0.10833333333333334 rr 0.11666666666666667\n"
     ]
    },
    {
     "data": {
      "text/html": [
       "Tracking run with wandb version 0.17.9"
      ],
      "text/plain": [
       "<IPython.core.display.HTML object>"
      ]
     },
     "metadata": {},
     "output_type": "display_data"
    },
    {
     "data": {
      "text/html": [
       "Run data is saved locally in <code>/home/angeline/ml-in-production-getting-started/module-3/experiments/wandb/run-20240913_212735-2lat921n</code>"
      ],
      "text/plain": [
       "<IPython.core.display.HTML object>"
      ]
     },
     "metadata": {},
     "output_type": "display_data"
    },
    {
     "data": {
      "text/html": [
       "Syncing run <strong><a href='https://wandb.ai/angeliney-georgian/children-song-dataset-retrieval/runs/2lat921n' target=\"_blank\">restful-star-40</a></strong> to <a href='https://wandb.ai/angeliney-georgian/children-song-dataset-retrieval' target=\"_blank\">Weights & Biases</a> (<a href='https://wandb.me/run' target=\"_blank\">docs</a>)<br/>"
      ],
      "text/plain": [
       "<IPython.core.display.HTML object>"
      ]
     },
     "metadata": {},
     "output_type": "display_data"
    },
    {
     "data": {
      "text/html": [
       " View project at <a href='https://wandb.ai/angeliney-georgian/children-song-dataset-retrieval' target=\"_blank\">https://wandb.ai/angeliney-georgian/children-song-dataset-retrieval</a>"
      ],
      "text/plain": [
       "<IPython.core.display.HTML object>"
      ]
     },
     "metadata": {},
     "output_type": "display_data"
    },
    {
     "data": {
      "text/html": [
       " View run at <a href='https://wandb.ai/angeliney-georgian/children-song-dataset-retrieval/runs/2lat921n' target=\"_blank\">https://wandb.ai/angeliney-georgian/children-song-dataset-retrieval/runs/2lat921n</a>"
      ],
      "text/plain": [
       "<IPython.core.display.HTML object>"
      ]
     },
     "metadata": {},
     "output_type": "display_data"
    },
    {
     "data": {
      "text/html": [
       "<style>\n",
       "    table.wandb td:nth-child(1) { padding: 0 10px; text-align: left ; width: auto;} td:nth-child(2) {text-align: left ; width: 100%}\n",
       "    .wandb-row { display: flex; flex-direction: row; flex-wrap: wrap; justify-content: flex-start; width: 100% }\n",
       "    .wandb-col { display: flex; flex-direction: column; flex-basis: 100%; flex: 1; padding: 10px; }\n",
       "    </style>\n",
       "<div class=\"wandb-row\"><div class=\"wandb-col\"><h3>Run history:</h3><br/><table class=\"wandb\"><tr><td>mrr</td><td>▁</td></tr><tr><td>retrieval_recall</td><td>▁</td></tr></table><br/></div><div class=\"wandb-col\"><h3>Run summary:</h3><br/><table class=\"wandb\"><tr><td>mrr</td><td>0.10833</td></tr><tr><td>retrieval_recall</td><td>0.11667</td></tr></table><br/></div></div>"
      ],
      "text/plain": [
       "<IPython.core.display.HTML object>"
      ]
     },
     "metadata": {},
     "output_type": "display_data"
    },
    {
     "data": {
      "text/html": [
       " View run <strong style=\"color:#cdcd00\">restful-star-40</strong> at: <a href='https://wandb.ai/angeliney-georgian/children-song-dataset-retrieval/runs/2lat921n' target=\"_blank\">https://wandb.ai/angeliney-georgian/children-song-dataset-retrieval/runs/2lat921n</a><br/> View project at: <a href='https://wandb.ai/angeliney-georgian/children-song-dataset-retrieval' target=\"_blank\">https://wandb.ai/angeliney-georgian/children-song-dataset-retrieval</a><br/>Synced 5 W&B file(s), 0 media file(s), 0 artifact file(s) and 0 other file(s)"
      ],
      "text/plain": [
       "<IPython.core.display.HTML object>"
      ]
     },
     "metadata": {},
     "output_type": "display_data"
    },
    {
     "data": {
      "text/html": [
       "Find logs at: <code>./wandb/run-20240913_212735-2lat921n/logs</code>"
      ],
      "text/plain": [
       "<IPython.core.display.HTML object>"
      ]
     },
     "metadata": {},
     "output_type": "display_data"
    },
    {
     "data": {
      "text/html": [
       "wandb version 0.18.0 is available!  To upgrade, please run:\n",
       " $ pip install wandb --upgrade"
      ],
      "text/plain": [
       "<IPython.core.display.HTML object>"
      ]
     },
     "metadata": {},
     "output_type": "display_data"
    },
    {
     "data": {
      "text/html": [
       "The new W&B backend becomes opt-out in version 0.18.0; try it out with `wandb.require(\"core\")`! See https://wandb.me/wandb-core for more information."
      ],
      "text/plain": [
       "<IPython.core.display.HTML object>"
      ]
     },
     "metadata": {},
     "output_type": "display_data"
    },
    {
     "name": "stdout",
     "output_type": "stream",
     "text": [
      "openai/whisper-base\n",
      "cosine\n",
      "Running test for condition: (offset == 0) and (pitch_shift == 0) and (time_stretch == 1.0)\n"
     ]
    },
    {
     "ename": "",
     "evalue": "",
     "output_type": "error",
     "traceback": [
      "\u001b[1;31mThe Kernel crashed while executing code in the current cell or a previous cell. \n",
      "\u001b[1;31mPlease review the code in the cell(s) to identify a possible cause of the failure. \n",
      "\u001b[1;31mClick <a href='https://aka.ms/vscodeJupyterKernelCrash'>here</a> for more info. \n",
      "\u001b[1;31mView Jupyter <a href='command:jupyter.viewOutput'>log</a> for further details."
     ]
    }
   ],
   "source": [
    "from transformers import AutoProcessor, AutoModel, WhisperFeatureExtractor\n",
    "\n",
    "models = [\"openai/whisper-tiny\", \"openai/whisper-base\", \"openai/whisper-small\", \"openai/whisper-medium\"]\n",
    "\n",
    "# Load the pretrained Wav2Vec2 model and processor\n",
    "for model_name in models:\n",
    "    print(model_name)\n",
    "    feature_extractor = WhisperFeatureExtractor.from_pretrained(model_name)\n",
    "    processor = AutoProcessor.from_pretrained(model_name)\n",
    "    def custom_processor(audio, sampling_rate=16000, return_tensors=\"pt\", **kwargs):\n",
    "        return processor.feature_extractor.pad([{\n",
    "                \"input_features\":\n",
    "                feature_extractor(audio, sampling_rate=sampling_rate)[\"input_features\"][0]}],\n",
    "            return_tensors=return_tensors)\n",
    "\n",
    "    model = AutoModel.from_pretrained(model_name)\n",
    "    def custom_model(input_features):\n",
    "        return model.encoder(input_features)\n",
    "\n",
    "\n",
    "    db_name = f\"audio_feat_{model_name.replace('/', '_').replace(\"-\", \"_\")}_last_hidden_state\"\n",
    "    if db_name not in db.table_names():\n",
    "        embed_lookup_data(\n",
    "            lambda audio: embed_with_model(audio, custom_processor, custom_model, output_field=\"last_hidden_state\").numpy().flatten(),\n",
    "            audio_df,\n",
    "            db_name\n",
    "        )\n",
    "\n",
    "    hidden_state_tbl = db.open_table(db_name)\n",
    "\n",
    "    for search_metric in [\"l2\", \"cosine\", \"dot\"]:\n",
    "        print(search_metric)\n",
    "        test_and_log(\n",
    "            lambda x: search(x, hidden_state_tbl, search_metric),\n",
    "            lambda audio: embed_with_model(audio, custom_processor, custom_model, output_field=\"last_hidden_state\").numpy().flatten(),\n",
    "            search_metric,\n",
    "            db_name\n",
    "        )                                                                       "
   ]
  },
  {
   "cell_type": "code",
   "execution_count": null,
   "metadata": {},
   "outputs": [],
   "source": []
  }
 ],
 "metadata": {
  "kernelspec": {
   "display_name": "mlops-training",
   "language": "python",
   "name": "python3"
  },
  "language_info": {
   "codemirror_mode": {
    "name": "ipython",
    "version": 3
   },
   "file_extension": ".py",
   "mimetype": "text/x-python",
   "name": "python",
   "nbconvert_exporter": "python",
   "pygments_lexer": "ipython3",
   "version": "3.12.4"
  }
 },
 "nbformat": 4,
 "nbformat_minor": 2
}
