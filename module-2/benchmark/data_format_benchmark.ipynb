{
 "cells": [
  {
   "cell_type": "markdown",
   "metadata": {},
   "source": [
    "# Benchmark different data formats for audio"
   ]
  },
  {
   "cell_type": "markdown",
   "metadata": {},
   "source": [
    "### Download files from the children song dataset"
   ]
  },
  {
   "cell_type": "code",
   "execution_count": 2,
   "metadata": {},
   "outputs": [
    {
     "data": {
      "text/html": [
       "<pre style=\"white-space:pre;overflow-x:auto;line-height:normal;font-family:Menlo,'DejaVu Sans Mono',consolas,'Courier New',monospace\">Accessing as angeliney\n",
       "</pre>\n"
      ],
      "text/plain": [
       "Accessing as angeliney\n"
      ]
     },
     "metadata": {},
     "output_type": "display_data"
    }
   ],
   "source": [
    "from dagshub.streaming import DagsHubFilesystem\n",
    "fs = DagsHubFilesystem(\".\", repo_url=\"https://dagshub.com/kinkusuma/children-song-dataset\")\n"
   ]
  },
  {
   "cell_type": "code",
   "execution_count": 3,
   "metadata": {},
   "outputs": [],
   "source": [
    "for num in range(1, 51):\n",
    "    for letter in [\"a\", \"b\"]:\n",
    "        f = fs.open(f\"CSD/english/wav/en{num:03}{letter}.wav\", 'r')\n",
    "        f.close()"
   ]
  },
  {
   "cell_type": "markdown",
   "metadata": {},
   "source": [
    "### Load the wavfile as arrays"
   ]
  },
  {
   "cell_type": "code",
   "execution_count": 5,
   "metadata": {},
   "outputs": [],
   "source": [
    "import soundfile as sf\n",
    "\n",
    "sound_arrays = []\n",
    "\n",
    "for num in range(1, 5):\n",
    "    for letter in [\"a\", \"b\"]:\n",
    "        # print(f\"Loading en{num:03}{letter}\")\n",
    "        data, sample_rate = sf.read(f\"CSD/english/wav/en{num:03}{letter}.wav\")\n",
    "        sound_arrays.append({\n",
    "            \"audio\": data,\n",
    "            \"sample_rate\": sample_rate,\n",
    "            \"filename\": f\"en{num:03}{letter}\"\n",
    "        })"
   ]
  },
  {
   "cell_type": "code",
   "execution_count": 6,
   "metadata": {},
   "outputs": [
    {
     "data": {
      "text/html": [
       "<div>\n",
       "<style scoped>\n",
       "    .dataframe tbody tr th:only-of-type {\n",
       "        vertical-align: middle;\n",
       "    }\n",
       "\n",
       "    .dataframe tbody tr th {\n",
       "        vertical-align: top;\n",
       "    }\n",
       "\n",
       "    .dataframe thead th {\n",
       "        text-align: right;\n",
       "    }\n",
       "</style>\n",
       "<table border=\"1\" class=\"dataframe\">\n",
       "  <thead>\n",
       "    <tr style=\"text-align: right;\">\n",
       "      <th></th>\n",
       "      <th>audio</th>\n",
       "      <th>sample_rate</th>\n",
       "      <th>filename</th>\n",
       "    </tr>\n",
       "  </thead>\n",
       "  <tbody>\n",
       "    <tr>\n",
       "      <th>0</th>\n",
       "      <td>[[-3.0517578125e-05, -6.103515625e-05], [0.0, ...</td>\n",
       "      <td>44100</td>\n",
       "      <td>en001a</td>\n",
       "    </tr>\n",
       "    <tr>\n",
       "      <th>1</th>\n",
       "      <td>[[-3.0517578125e-05, 3.0517578125e-05], [6.103...</td>\n",
       "      <td>44100</td>\n",
       "      <td>en001b</td>\n",
       "    </tr>\n",
       "    <tr>\n",
       "      <th>2</th>\n",
       "      <td>[[-3.0517578125e-05, 0.0], [-3.0517578125e-05,...</td>\n",
       "      <td>44100</td>\n",
       "      <td>en002a</td>\n",
       "    </tr>\n",
       "    <tr>\n",
       "      <th>3</th>\n",
       "      <td>[[-3.0517578125e-05, 0.0], [0.0, 0.0], [3.0517...</td>\n",
       "      <td>44100</td>\n",
       "      <td>en002b</td>\n",
       "    </tr>\n",
       "    <tr>\n",
       "      <th>4</th>\n",
       "      <td>[[-3.0517578125e-05, 0.0], [0.0, 0.0], [3.0517...</td>\n",
       "      <td>44100</td>\n",
       "      <td>en003a</td>\n",
       "    </tr>\n",
       "  </tbody>\n",
       "</table>\n",
       "</div>"
      ],
      "text/plain": [
       "                                               audio  sample_rate filename\n",
       "0  [[-3.0517578125e-05, -6.103515625e-05], [0.0, ...        44100   en001a\n",
       "1  [[-3.0517578125e-05, 3.0517578125e-05], [6.103...        44100   en001b\n",
       "2  [[-3.0517578125e-05, 0.0], [-3.0517578125e-05,...        44100   en002a\n",
       "3  [[-3.0517578125e-05, 0.0], [0.0, 0.0], [3.0517...        44100   en002b\n",
       "4  [[-3.0517578125e-05, 0.0], [0.0, 0.0], [3.0517...        44100   en003a"
      ]
     },
     "execution_count": 6,
     "metadata": {},
     "output_type": "execute_result"
    }
   ],
   "source": [
    "import pandas as pd\n",
    "\n",
    "df = pd.DataFrame(sound_arrays)\n",
    "df.head()"
   ]
  },
  {
   "cell_type": "code",
   "execution_count": 3,
   "metadata": {},
   "outputs": [
    {
     "data": {
      "text/plain": [
       "2857680"
      ]
     },
     "execution_count": 3,
     "metadata": {},
     "output_type": "execute_result"
    }
   ],
   "source": [
    "len(df.iloc[0][\"audio\"])"
   ]
  },
  {
   "cell_type": "code",
   "execution_count": 4,
   "metadata": {},
   "outputs": [
    {
     "data": {
      "text/html": [
       "<div>\n",
       "<style scoped>\n",
       "    .dataframe tbody tr th:only-of-type {\n",
       "        vertical-align: middle;\n",
       "    }\n",
       "\n",
       "    .dataframe tbody tr th {\n",
       "        vertical-align: top;\n",
       "    }\n",
       "\n",
       "    .dataframe thead th {\n",
       "        text-align: right;\n",
       "    }\n",
       "</style>\n",
       "<table border=\"1\" class=\"dataframe\">\n",
       "  <thead>\n",
       "    <tr style=\"text-align: right;\">\n",
       "      <th></th>\n",
       "      <th>sample_rate</th>\n",
       "      <th>filename</th>\n",
       "      <th>audio_dim0</th>\n",
       "      <th>audio_dim1</th>\n",
       "    </tr>\n",
       "  </thead>\n",
       "  <tbody>\n",
       "    <tr>\n",
       "      <th>0</th>\n",
       "      <td>44100</td>\n",
       "      <td>en001a</td>\n",
       "      <td>[-3.0517578125e-05, 0.0, 6.103515625e-05, -3.0...</td>\n",
       "      <td>[-6.103515625e-05, -3.0517578125e-05, -3.05175...</td>\n",
       "    </tr>\n",
       "    <tr>\n",
       "      <th>1</th>\n",
       "      <td>44100</td>\n",
       "      <td>en001b</td>\n",
       "      <td>[-3.0517578125e-05, 6.103515625e-05, 3.0517578...</td>\n",
       "      <td>[3.0517578125e-05, 0.0, 0.0, 6.103515625e-05, ...</td>\n",
       "    </tr>\n",
       "    <tr>\n",
       "      <th>2</th>\n",
       "      <td>44100</td>\n",
       "      <td>en002a</td>\n",
       "      <td>[-3.0517578125e-05, -3.0517578125e-05, 3.05175...</td>\n",
       "      <td>[0.0, 3.0517578125e-05, 0.0, 6.103515625e-05, ...</td>\n",
       "    </tr>\n",
       "    <tr>\n",
       "      <th>3</th>\n",
       "      <td>44100</td>\n",
       "      <td>en002b</td>\n",
       "      <td>[-3.0517578125e-05, 0.0, 3.0517578125e-05, -3....</td>\n",
       "      <td>[0.0, 0.0, 0.0, 3.0517578125e-05, 6.103515625e...</td>\n",
       "    </tr>\n",
       "    <tr>\n",
       "      <th>4</th>\n",
       "      <td>44100</td>\n",
       "      <td>en003a</td>\n",
       "      <td>[-3.0517578125e-05, 0.0, 3.0517578125e-05, -3....</td>\n",
       "      <td>[0.0, 0.0, 0.0, 3.0517578125e-05, 0.0, 0.0, 3....</td>\n",
       "    </tr>\n",
       "  </tbody>\n",
       "</table>\n",
       "</div>"
      ],
      "text/plain": [
       "   sample_rate filename                                         audio_dim0  \\\n",
       "0        44100   en001a  [-3.0517578125e-05, 0.0, 6.103515625e-05, -3.0...   \n",
       "1        44100   en001b  [-3.0517578125e-05, 6.103515625e-05, 3.0517578...   \n",
       "2        44100   en002a  [-3.0517578125e-05, -3.0517578125e-05, 3.05175...   \n",
       "3        44100   en002b  [-3.0517578125e-05, 0.0, 3.0517578125e-05, -3....   \n",
       "4        44100   en003a  [-3.0517578125e-05, 0.0, 3.0517578125e-05, -3....   \n",
       "\n",
       "                                          audio_dim1  \n",
       "0  [-6.103515625e-05, -3.0517578125e-05, -3.05175...  \n",
       "1  [3.0517578125e-05, 0.0, 0.0, 6.103515625e-05, ...  \n",
       "2  [0.0, 3.0517578125e-05, 0.0, 6.103515625e-05, ...  \n",
       "3  [0.0, 0.0, 0.0, 3.0517578125e-05, 6.103515625e...  \n",
       "4  [0.0, 0.0, 0.0, 3.0517578125e-05, 0.0, 0.0, 3....  "
      ]
     },
     "execution_count": 4,
     "metadata": {},
     "output_type": "execute_result"
    }
   ],
   "source": [
    "import numpy as np\n",
    "\n",
    "# Split the 2d array into 2 columns of 1d array to make it easier to save to different file formats\n",
    "def split_2d_array(arr):\n",
    "    np_arr = np.array(arr)\n",
    "    return pd.Series([np_arr[:, 0], np_arr[:, 1]])\n",
    "\n",
    "# Apply the function to the 'array_column'\n",
    "df_split = df['audio'].apply(split_2d_array)\n",
    "\n",
    "# Rename the columns and join with the original DataFrame (excluding 'array_column')\n",
    "df_split.columns = ['audio_dim0', 'audio_dim1']\n",
    "df_final = pd.concat([df.drop('audio', axis=1), df_split], axis=1)\n",
    "df_final.head()"
   ]
  },
  {
   "cell_type": "code",
   "execution_count": 5,
   "metadata": {},
   "outputs": [],
   "source": [
    "df = df_final"
   ]
  },
  {
   "cell_type": "code",
   "execution_count": 6,
   "metadata": {},
   "outputs": [
    {
     "name": "stderr",
     "output_type": "stream",
     "text": [
      "/tmp/ipykernel_53386/3245458777.py:36: PerformanceWarning: \n",
      "your performance may suffer as PyTables will pickle object types that it cannot\n",
      "map directly to c-types [inferred_type->mixed,key->block1_values] [items->Index(['filename', 'audio_dim0', 'audio_dim1'], dtype='object')]\n",
      "\n",
      "  lambda df, filename: df.to_hdf(filename, key='df', mode='w'),\n"
     ]
    },
    {
     "name": "stdout",
     "output_type": "stream",
     "text": [
      "CSV: Save time = 0.0071 s, Load time = 0.0013 s\n",
      "HDF5: Save time = 1.1481 s, Load time = 1.0334 s\n",
      "Feather: Save time = 1.0951 s, Load time = 0.1601 s\n",
      "Parquet: Save time = 1.6985 s, Load time = 0.3170 s\n"
     ]
    }
   ],
   "source": [
    "import time, os\n",
    "\n",
    "# Dictionary to hold benchmark results\n",
    "results = {}\n",
    "\n",
    "def benchmark_save_load(format_name, save_func, load_func, file_ext):\n",
    "    file_name = f'benchmark_test.{file_ext}'\n",
    "\n",
    "    # Measure save time\n",
    "    start_time = time.time()\n",
    "    save_func(df, file_name)\n",
    "    save_time = time.time() - start_time\n",
    "\n",
    "    # Measure load time\n",
    "    start_time = time.time()\n",
    "    loaded_df = load_func(file_name)\n",
    "    load_time = time.time() - start_time\n",
    "\n",
    "    # Clean up the file after testing\n",
    "    os.remove(file_name)\n",
    "\n",
    "    # Store results\n",
    "    results[format_name] = {'save_time': save_time, 'load_time': load_time}\n",
    "                            \n",
    "# CSV\n",
    "benchmark_save_load(\n",
    "    'CSV',\n",
    "    lambda df, filename: df.to_csv(filename, index=False),\n",
    "    lambda filename: pd.read_csv(filename),\n",
    "    'csv'\n",
    ")\n",
    "\n",
    "# HDF5\n",
    "benchmark_save_load(\n",
    "    'HDF5',\n",
    "    lambda df, filename: df.to_hdf(filename, key='df', mode='w'),\n",
    "    lambda filename: pd.read_hdf(filename, 'df'),\n",
    "    'h5'\n",
    ")\n",
    "\n",
    "# Feather\n",
    "benchmark_save_load(\n",
    "    'Feather',\n",
    "    lambda df, filename: df.to_feather(filename),\n",
    "    lambda filename: pd.read_feather(filename),\n",
    "    'feather'\n",
    ")\n",
    "\n",
    "# Parquet\n",
    "benchmark_save_load(\n",
    "    'Parquet',\n",
    "    lambda df, filename: df.to_parquet(filename, engine='pyarrow'),\n",
    "    lambda filename: pd.read_parquet(filename),\n",
    "    'parquet'\n",
    ")\n",
    "\n",
    "# Display the results\n",
    "for fmt, times in results.items():\n",
    "    print(f\"{fmt}: Save time = {times['save_time']:.4f} s, Load time = {times['load_time']:.4f} s\")"
   ]
  }
 ],
 "metadata": {
  "kernelspec": {
   "display_name": "mlops-training",
   "language": "python",
   "name": "python3"
  },
  "language_info": {
   "codemirror_mode": {
    "name": "ipython",
    "version": 3
   },
   "file_extension": ".py",
   "mimetype": "text/x-python",
   "name": "python",
   "nbconvert_exporter": "python",
   "pygments_lexer": "ipython3",
   "version": "3.12.4"
  }
 },
 "nbformat": 4,
 "nbformat_minor": 2
}
