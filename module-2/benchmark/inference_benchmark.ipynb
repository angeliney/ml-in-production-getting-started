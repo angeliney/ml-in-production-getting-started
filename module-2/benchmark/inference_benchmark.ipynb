{
 "cells": [
  {
   "cell_type": "markdown",
   "metadata": {},
   "source": [
    "# Benchmark inference on single process and multi processes\n"
   ]
  },
  {
   "cell_type": "markdown",
   "metadata": {},
   "source": [
    "## Load data"
   ]
  },
  {
   "cell_type": "code",
   "execution_count": 1,
   "metadata": {},
   "outputs": [],
   "source": [
    "import soundfile as sf\n",
    "import numpy as np\n",
    "\n",
    "# List to hold dictionaries with chunked audio data\n",
    "sound_arrays = []\n",
    "\n",
    "# Process each file\n",
    "for num in range(1, 51):\n",
    "    for letter in [\"a\", \"b\"]:\n",
    "        # Load the audio file\n",
    "        data, sample_rate = sf.read(f\"CSD/english/wav/en{num:03}{letter}.wav\")\n",
    "        data = np.array(data)\n",
    "        # Combine stereo channels into mono\n",
    "        if np.ndim(data) == 2:\n",
    "            data = np.mean(data, axis=1)\n",
    "        \n",
    "        # Break the audio into chunks\n",
    "        chunk_size = 44100 * 5\n",
    "        num_chunks = len(data) // chunk_size\n",
    "        for i in range(num_chunks):\n",
    "            chunk = data[i * chunk_size:(i + 1) * chunk_size]\n",
    "            sound_arrays.append({\n",
    "                \"audio\": chunk,\n",
    "                \"sample_rate\": sample_rate,\n",
    "                \"filename\": f\"en{num:03}{letter}_chunk{i+1}\"\n",
    "            })"
   ]
  },
  {
   "cell_type": "markdown",
   "metadata": {},
   "source": [
    "## Process and save them as chunks of arrays with 100 floats"
   ]
  },
  {
   "cell_type": "code",
   "execution_count": 2,
   "metadata": {},
   "outputs": [
    {
     "data": {
      "text/plain": [
       "1636"
      ]
     },
     "execution_count": 2,
     "metadata": {},
     "output_type": "execute_result"
    }
   ],
   "source": [
    "import pandas as pd\n",
    "\n",
    "df = pd.DataFrame(sound_arrays)\n",
    "len(df)"
   ]
  },
  {
   "cell_type": "code",
   "execution_count": 3,
   "metadata": {},
   "outputs": [
    {
     "data": {
      "text/html": [
       "<div>\n",
       "<style scoped>\n",
       "    .dataframe tbody tr th:only-of-type {\n",
       "        vertical-align: middle;\n",
       "    }\n",
       "\n",
       "    .dataframe tbody tr th {\n",
       "        vertical-align: top;\n",
       "    }\n",
       "\n",
       "    .dataframe thead th {\n",
       "        text-align: right;\n",
       "    }\n",
       "</style>\n",
       "<table border=\"1\" class=\"dataframe\">\n",
       "  <thead>\n",
       "    <tr style=\"text-align: right;\">\n",
       "      <th></th>\n",
       "      <th>audio</th>\n",
       "      <th>sample_rate</th>\n",
       "      <th>filename</th>\n",
       "    </tr>\n",
       "  </thead>\n",
       "  <tbody>\n",
       "    <tr>\n",
       "      <th>0</th>\n",
       "      <td>[-4.57763671875e-05, -1.52587890625e-05, 1.525...</td>\n",
       "      <td>44100</td>\n",
       "      <td>en001a_chunk1</td>\n",
       "    </tr>\n",
       "    <tr>\n",
       "      <th>1</th>\n",
       "      <td>[0.0896759033203125, 0.1035919189453125, 0.105...</td>\n",
       "      <td>44100</td>\n",
       "      <td>en001a_chunk2</td>\n",
       "    </tr>\n",
       "    <tr>\n",
       "      <th>2</th>\n",
       "      <td>[0.071502685546875, 0.07415771484375, 0.074615...</td>\n",
       "      <td>44100</td>\n",
       "      <td>en001a_chunk3</td>\n",
       "    </tr>\n",
       "    <tr>\n",
       "      <th>3</th>\n",
       "      <td>[0.0767364501953125, 0.0855865478515625, 0.091...</td>\n",
       "      <td>44100</td>\n",
       "      <td>en001a_chunk4</td>\n",
       "    </tr>\n",
       "    <tr>\n",
       "      <th>4</th>\n",
       "      <td>[-0.1270751953125, -0.112823486328125, -0.0729...</td>\n",
       "      <td>44100</td>\n",
       "      <td>en001a_chunk5</td>\n",
       "    </tr>\n",
       "  </tbody>\n",
       "</table>\n",
       "</div>"
      ],
      "text/plain": [
       "                                               audio  sample_rate  \\\n",
       "0  [-4.57763671875e-05, -1.52587890625e-05, 1.525...        44100   \n",
       "1  [0.0896759033203125, 0.1035919189453125, 0.105...        44100   \n",
       "2  [0.071502685546875, 0.07415771484375, 0.074615...        44100   \n",
       "3  [0.0767364501953125, 0.0855865478515625, 0.091...        44100   \n",
       "4  [-0.1270751953125, -0.112823486328125, -0.0729...        44100   \n",
       "\n",
       "        filename  \n",
       "0  en001a_chunk1  \n",
       "1  en001a_chunk2  \n",
       "2  en001a_chunk3  \n",
       "3  en001a_chunk4  \n",
       "4  en001a_chunk5  "
      ]
     },
     "execution_count": 3,
     "metadata": {},
     "output_type": "execute_result"
    }
   ],
   "source": [
    "df.head()"
   ]
  },
  {
   "cell_type": "code",
   "execution_count": 4,
   "metadata": {},
   "outputs": [],
   "source": [
    "import time\n",
    "import multiprocessing\n",
    "import numpy as np\n",
    "import pandas as pd\n",
    "\n",
    "# Define the inference task to find the closest match using Euclidean distance\n",
    "def find_closest_match(input_array, db_vector):\n",
    "    # Calculate Euclidean distance\n",
    "    distance = np.linalg.norm(input_array - db_vector)\n",
    "    return distance\n",
    "\n",
    "# Function to run inference with a single process\n",
    "def run_single_process(input_array, df):\n",
    "    start_time = time.time()\n",
    "    # Extract vectors and filenames\n",
    "    vectors = df['audio'].to_list()\n",
    "    filenames = df['filename'].to_list()\n",
    "    # Find the closest match\n",
    "    distances = [find_closest_match(input_array, vector) for vector in vectors]\n",
    "    closest_index = np.argmin(distances)\n",
    "    closest_filename = filenames[closest_index]\n",
    "    closest_distance = distances[closest_index]\n",
    "    end_time = time.time()\n",
    "    return closest_filename, closest_distance, end_time - start_time\n",
    "\n",
    "# Function to run inference with multiple processes\n",
    "def run_multiple_processes(input_array, df, num_processes):\n",
    "    start_time = time.time()\n",
    "    # Extract vectors and filenames\n",
    "    vectors = df['audio'].to_list()\n",
    "    filenames = df['filename'].to_list()\n",
    "    \n",
    "    with multiprocessing.Pool(num_processes) as pool:\n",
    "        distances = pool.starmap(find_closest_match, [(input_array, vector) for vector in vectors])\n",
    "    \n",
    "    closest_index = np.argmin(distances)\n",
    "    closest_filename = filenames[closest_index]\n",
    "    closest_distance = distances[closest_index]\n",
    "    \n",
    "    end_time = time.time()\n",
    "    return closest_filename, closest_distance, end_time - start_time\n",
    "\n",
    "# Main function to benchmark performance\n",
    "def benchmark_inference(input_array, df, num_processes):\n",
    "    # Single process\n",
    "    single_filename, single_distance, single_time = run_single_process(input_array, df)\n",
    "    print(f\"Single process time: {single_time:.2f} seconds\")\n",
    "    \n",
    "    # Multiple processes\n",
    "    multiple_filename, multiple_distance, multiple_time = run_multiple_processes(input_array, df, num_processes)\n",
    "    print(f\"Multiple processes time: {multiple_time:.2f} seconds\")\n",
    "    \n",
    "    # Report differences\n",
    "    print(f\"Single process closest filename: {single_filename}, distance: {single_distance}\")\n",
    "    print(f\"Multiple processes closest filename: {multiple_filename}, distance: {multiple_distance}\")\n"
   ]
  },
  {
   "cell_type": "code",
   "execution_count": 5,
   "metadata": {},
   "outputs": [
    {
     "name": "stdout",
     "output_type": "stream",
     "text": [
      "Single process time: 5.84 seconds\n",
      "Multiple processes time: 27.53 seconds\n",
      "Single process closest filename: en024b_chunk11, distance: 271.12961369798376\n",
      "Multiple processes closest filename: en024b_chunk11, distance: 271.12961369798376\n"
     ]
    }
   ],
   "source": [
    "# Input array\n",
    "input_array = np.random.random(44100*5)\n",
    "\n",
    "# Benchmark with 4 processes\n",
    "benchmark_inference(input_array, df, num_processes=4)\n"
   ]
  },
  {
   "cell_type": "code",
   "execution_count": null,
   "metadata": {},
   "outputs": [],
   "source": []
  }
 ],
 "metadata": {
  "kernelspec": {
   "display_name": "mlops-training",
   "language": "python",
   "name": "python3"
  },
  "language_info": {
   "codemirror_mode": {
    "name": "ipython",
    "version": 3
   },
   "file_extension": ".py",
   "mimetype": "text/x-python",
   "name": "python",
   "nbconvert_exporter": "python",
   "pygments_lexer": "ipython3",
   "version": "3.12.4"
  }
 },
 "nbformat": 4,
 "nbformat_minor": 2
}
